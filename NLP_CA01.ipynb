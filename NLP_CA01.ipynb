{
  "cells": [
    {
      "cell_type": "markdown",
      "metadata": {
        "id": "view-in-github",
        "colab_type": "text"
      },
      "source": [
        "<a href=\"https://colab.research.google.com/github/divyakumar95/Blog_gender_classification/blob/main/NLP_CA01.ipynb\" target=\"_parent\"><img src=\"https://colab.research.google.com/assets/colab-badge.svg\" alt=\"Open In Colab\"/></a>"
      ]
    },
    {
      "cell_type": "markdown",
      "metadata": {
        "id": "XA6I4ZM16AZv"
      },
      "source": [
        "#Exercise 3\n",
        "\n",
        "Using the Bog Gender dataset provided to build a BLOG Gender Classifier. You may use any tool of your choice, for example, RapidMiner; Databricks Spark; Python; R or similar.\n",
        "\n",
        "The CRISP-DM methodology should be applied on the data and the results presented in a written report under the six headings of the CRISP-DM Methodology.\n",
        "\n",
        "* Business Understanding \n",
        "\n",
        "  `Explore the domain use case.`\n",
        "* Data Understanding\n",
        "\n",
        "  `Explore the dataset.`\n",
        "* Data Preparation\n",
        "    \n",
        "  `Apply appropriate Feature Extraction to prepare the data for modelling.`\n",
        "* Modelling\n",
        "  \n",
        "  `Apply appropriate Algorithm(s) to build a BLOG Gender Classifier.`\n",
        "* Evaluation\n",
        "  \n",
        "  `Interpret the performance of the Classifier in the context of your domain problem.`\n",
        "* Deployment\n",
        "\n",
        "  `Explore how the insights could be deployed (operationalised) in an AI context.`"
      ]
    },
    {
      "cell_type": "markdown",
      "metadata": {
        "id": "csOKcRIlLM1Q"
      },
      "source": [
        "##Business Understanding\n",
        "\n",
        "* As a ecommerce company we want to explore and analysis which kind of customers can we target with our fashion product and accessories.\n",
        "\n",
        "* Blogs been one of the key places where audience visit a lot could be a potential place to get our publicity and post the fashion products on."
      ]
    },
    {
      "cell_type": "markdown",
      "metadata": {
        "id": "IN2O--42L30P"
      },
      "source": [
        "##Data Understanding\n",
        "\n",
        "Mount drive to colab to use dataset\n",
        "\n",
        "###Data Files path\n",
        "\n",
        "https://drive.google.com/file/d/1Y8UG7oG7fYjmPMb_pjtyT4240IWG5OMw/view?usp=sharing"
      ]
    },
    {
      "cell_type": "code",
      "execution_count": 1,
      "metadata": {
        "id": "rTz2Y9R_5Z_B"
      },
      "outputs": [],
      "source": [
        "dataPath = '/content/drive/MyDrive/Assignments_2nd_Sem/NLP/CA01/BLOG-GENDER-BALANCED.csv'"
      ]
    },
    {
      "cell_type": "markdown",
      "metadata": {
        "id": "6I47Gk9TMcZ-"
      },
      "source": [
        "###Import required libraries/modules"
      ]
    },
    {
      "cell_type": "code",
      "execution_count": 2,
      "metadata": {
        "colab": {
          "base_uri": "https://localhost:8080/"
        },
        "id": "AJyqLX3lfjuI",
        "outputId": "d053d830-6cb9-4410-b270-ea4b77d39230"
      },
      "outputs": [
        {
          "output_type": "stream",
          "name": "stdout",
          "text": [
            "[nltk_data] Downloading package wordnet to /root/nltk_data...\n",
            "[nltk_data]   Package wordnet is already up-to-date!\n",
            "[nltk_data] Downloading package stopwords to /root/nltk_data...\n",
            "[nltk_data]   Package stopwords is already up-to-date!\n",
            "[nltk_data] Downloading package punkt to /root/nltk_data...\n",
            "[nltk_data]   Package punkt is already up-to-date!\n"
          ]
        }
      ],
      "source": [
        "%matplotlib inline\n",
        "\n",
        "import pandas as pd\n",
        "import numpy as np\n",
        "import matplotlib.pyplot as plt\n",
        "import nltk\n",
        "import inflect\n",
        "nltk.download('wordnet')\n",
        "nltk.download('stopwords')\n",
        "nltk.download('punkt')\n",
        "from nltk.corpus import stopwords\n",
        "from nltk.stem import LancasterStemmer, WordNetLemmatizer\n",
        "\n",
        "import string, unicodedata, re"
      ]
    },
    {
      "cell_type": "code",
      "execution_count": 3,
      "metadata": {
        "colab": {
          "base_uri": "https://localhost:8080/",
          "height": 206
        },
        "id": "QD7V5E_jnSid",
        "outputId": "c228dffd-485f-4894-8755-0aaa652067f6"
      },
      "outputs": [
        {
          "output_type": "execute_result",
          "data": {
            "text/html": [
              "\n",
              "  <div id=\"df-c872b6e5-4350-417b-84a0-b2a42c5cdc80\">\n",
              "    <div class=\"colab-df-container\">\n",
              "      <div>\n",
              "<style scoped>\n",
              "    .dataframe tbody tr th:only-of-type {\n",
              "        vertical-align: middle;\n",
              "    }\n",
              "\n",
              "    .dataframe tbody tr th {\n",
              "        vertical-align: top;\n",
              "    }\n",
              "\n",
              "    .dataframe thead th {\n",
              "        text-align: right;\n",
              "    }\n",
              "</style>\n",
              "<table border=\"1\" class=\"dataframe\">\n",
              "  <thead>\n",
              "    <tr style=\"text-align: right;\">\n",
              "      <th></th>\n",
              "      <th>BLOG</th>\n",
              "      <th>GENDER</th>\n",
              "    </tr>\n",
              "  </thead>\n",
              "  <tbody>\n",
              "    <tr>\n",
              "      <th>0</th>\n",
              "      <td>Beyond Getting There: What Travel Days Show U...</td>\n",
              "      <td>F</td>\n",
              "    </tr>\n",
              "    <tr>\n",
              "      <th>1</th>\n",
              "      <td>I remember so much about the island; the large...</td>\n",
              "      <td>F</td>\n",
              "    </tr>\n",
              "    <tr>\n",
              "      <th>2</th>\n",
              "      <td>I have had asthma and allergies my entire life...</td>\n",
              "      <td>M</td>\n",
              "    </tr>\n",
              "    <tr>\n",
              "      <th>3</th>\n",
              "      <td>The last few days have been an emotional rolle...</td>\n",
              "      <td>M</td>\n",
              "    </tr>\n",
              "    <tr>\n",
              "      <th>4</th>\n",
              "      <td>If you lined up all the teachers and staff in ...</td>\n",
              "      <td>F</td>\n",
              "    </tr>\n",
              "  </tbody>\n",
              "</table>\n",
              "</div>\n",
              "      <button class=\"colab-df-convert\" onclick=\"convertToInteractive('df-c872b6e5-4350-417b-84a0-b2a42c5cdc80')\"\n",
              "              title=\"Convert this dataframe to an interactive table.\"\n",
              "              style=\"display:none;\">\n",
              "        \n",
              "  <svg xmlns=\"http://www.w3.org/2000/svg\" height=\"24px\"viewBox=\"0 0 24 24\"\n",
              "       width=\"24px\">\n",
              "    <path d=\"M0 0h24v24H0V0z\" fill=\"none\"/>\n",
              "    <path d=\"M18.56 5.44l.94 2.06.94-2.06 2.06-.94-2.06-.94-.94-2.06-.94 2.06-2.06.94zm-11 1L8.5 8.5l.94-2.06 2.06-.94-2.06-.94L8.5 2.5l-.94 2.06-2.06.94zm10 10l.94 2.06.94-2.06 2.06-.94-2.06-.94-.94-2.06-.94 2.06-2.06.94z\"/><path d=\"M17.41 7.96l-1.37-1.37c-.4-.4-.92-.59-1.43-.59-.52 0-1.04.2-1.43.59L10.3 9.45l-7.72 7.72c-.78.78-.78 2.05 0 2.83L4 21.41c.39.39.9.59 1.41.59.51 0 1.02-.2 1.41-.59l7.78-7.78 2.81-2.81c.8-.78.8-2.07 0-2.86zM5.41 20L4 18.59l7.72-7.72 1.47 1.35L5.41 20z\"/>\n",
              "  </svg>\n",
              "      </button>\n",
              "      \n",
              "  <style>\n",
              "    .colab-df-container {\n",
              "      display:flex;\n",
              "      flex-wrap:wrap;\n",
              "      gap: 12px;\n",
              "    }\n",
              "\n",
              "    .colab-df-convert {\n",
              "      background-color: #E8F0FE;\n",
              "      border: none;\n",
              "      border-radius: 50%;\n",
              "      cursor: pointer;\n",
              "      display: none;\n",
              "      fill: #1967D2;\n",
              "      height: 32px;\n",
              "      padding: 0 0 0 0;\n",
              "      width: 32px;\n",
              "    }\n",
              "\n",
              "    .colab-df-convert:hover {\n",
              "      background-color: #E2EBFA;\n",
              "      box-shadow: 0px 1px 2px rgba(60, 64, 67, 0.3), 0px 1px 3px 1px rgba(60, 64, 67, 0.15);\n",
              "      fill: #174EA6;\n",
              "    }\n",
              "\n",
              "    [theme=dark] .colab-df-convert {\n",
              "      background-color: #3B4455;\n",
              "      fill: #D2E3FC;\n",
              "    }\n",
              "\n",
              "    [theme=dark] .colab-df-convert:hover {\n",
              "      background-color: #434B5C;\n",
              "      box-shadow: 0px 1px 3px 1px rgba(0, 0, 0, 0.15);\n",
              "      filter: drop-shadow(0px 1px 2px rgba(0, 0, 0, 0.3));\n",
              "      fill: #FFFFFF;\n",
              "    }\n",
              "  </style>\n",
              "\n",
              "      <script>\n",
              "        const buttonEl =\n",
              "          document.querySelector('#df-c872b6e5-4350-417b-84a0-b2a42c5cdc80 button.colab-df-convert');\n",
              "        buttonEl.style.display =\n",
              "          google.colab.kernel.accessAllowed ? 'block' : 'none';\n",
              "\n",
              "        async function convertToInteractive(key) {\n",
              "          const element = document.querySelector('#df-c872b6e5-4350-417b-84a0-b2a42c5cdc80');\n",
              "          const dataTable =\n",
              "            await google.colab.kernel.invokeFunction('convertToInteractive',\n",
              "                                                     [key], {});\n",
              "          if (!dataTable) return;\n",
              "\n",
              "          const docLinkHtml = 'Like what you see? Visit the ' +\n",
              "            '<a target=\"_blank\" href=https://colab.research.google.com/notebooks/data_table.ipynb>data table notebook</a>'\n",
              "            + ' to learn more about interactive tables.';\n",
              "          element.innerHTML = '';\n",
              "          dataTable['output_type'] = 'display_data';\n",
              "          await google.colab.output.renderOutput(dataTable, element);\n",
              "          const docLink = document.createElement('div');\n",
              "          docLink.innerHTML = docLinkHtml;\n",
              "          element.appendChild(docLink);\n",
              "        }\n",
              "      </script>\n",
              "    </div>\n",
              "  </div>\n",
              "  "
            ],
            "text/plain": [
              "                                                BLOG GENDER\n",
              "0   Beyond Getting There: What Travel Days Show U...      F\n",
              "1  I remember so much about the island; the large...      F\n",
              "2  I have had asthma and allergies my entire life...      M\n",
              "3  The last few days have been an emotional rolle...      M\n",
              "4  If you lined up all the teachers and staff in ...      F"
            ]
          },
          "metadata": {},
          "execution_count": 3
        }
      ],
      "source": [
        "data = pd.read_csv(dataPath, index_col=False, encoding='cp1252')\n",
        "data.reset_index(drop=True, inplace=True)\n",
        "data.head()"
      ]
    },
    {
      "cell_type": "code",
      "execution_count": 4,
      "metadata": {
        "colab": {
          "base_uri": "https://localhost:8080/"
        },
        "id": "DO1LIufjDp4l",
        "outputId": "32432dac-9568-4599-e57e-e31d9bb4e37b"
      },
      "outputs": [
        {
          "output_type": "stream",
          "name": "stdout",
          "text": [
            "<class 'pandas.core.frame.DataFrame'>\n",
            "RangeIndex: 2600 entries, 0 to 2599\n",
            "Data columns (total 2 columns):\n",
            " #   Column  Non-Null Count  Dtype \n",
            "---  ------  --------------  ----- \n",
            " 0   BLOG    2599 non-null   object\n",
            " 1   GENDER  2600 non-null   object\n",
            "dtypes: object(2)\n",
            "memory usage: 40.8+ KB\n"
          ]
        }
      ],
      "source": [
        "data.info()"
      ]
    },
    {
      "cell_type": "code",
      "execution_count": 5,
      "metadata": {
        "colab": {
          "base_uri": "https://localhost:8080/"
        },
        "id": "MKpzGwEM_SLp",
        "outputId": "41b3866b-4e1d-4974-d410-ad60480a25fd"
      },
      "outputs": [
        {
          "output_type": "stream",
          "name": "stdout",
          "text": [
            "number of nan:  1\n"
          ]
        }
      ],
      "source": [
        "print('number of nan: ',data['BLOG'].isnull().sum())\n",
        "data = data.dropna()"
      ]
    },
    {
      "cell_type": "code",
      "execution_count": 6,
      "metadata": {
        "id": "ND0lo4cYdkZv"
      },
      "outputs": [],
      "source": [
        "def bar_graph(x):\n",
        "  print(data[x].value_counts())\n",
        "  fig, ax = plt.subplots()\n",
        "  fig.suptitle(x, fontsize=12)\n",
        "  data[x].reset_index().groupby(x).count().sort_values(by= \n",
        "       \"index\").plot(kind=\"barh\", legend=False, \n",
        "        ax=ax).grid(axis='x')\n",
        "  plt.show()"
      ]
    },
    {
      "cell_type": "code",
      "execution_count": 7,
      "metadata": {
        "colab": {
          "base_uri": "https://localhost:8080/",
          "height": 348
        },
        "id": "2RuiplpTi3-o",
        "outputId": "d6a29e4f-5c23-4bce-973c-454ad074a96d"
      },
      "outputs": [
        {
          "output_type": "stream",
          "name": "stdout",
          "text": [
            "F    1300\n",
            "M    1299\n",
            "Name: GENDER, dtype: int64\n"
          ]
        },
        {
          "output_type": "display_data",
          "data": {
            "image/png": "[encoded data removed]",
            "text/plain": [
              "<Figure size 432x288 with 1 Axes>"
            ]
          },
          "metadata": {
            "needs_background": "light"
          }
        }
      ],
      "source": [
        "bar_graph('GENDER')"
      ]
    },
    {
      "cell_type": "markdown",
      "metadata": {
        "id": "DlUCQOU1FXd3"
      },
      "source": [
        "## Data Preparation \n",
        "\n",
        "\n",
        "\n",
        "\n"
      ]
    },
    {
      "cell_type": "code",
      "execution_count": 8,
      "metadata": {
        "colab": {
          "base_uri": "https://localhost:8080/"
        },
        "id": "eLEGsmDQdthA",
        "outputId": "7afa3c40-d742-4aa3-88bf-510ff9ae9049"
      },
      "outputs": [
        {
          "output_type": "stream",
          "name": "stdout",
          "text": [
            "Requirement already satisfied: langdetect in /usr/local/lib/python3.7/dist-packages (1.0.9)\n",
            "Requirement already satisfied: six in /usr/local/lib/python3.7/dist-packages (from langdetect) (1.15.0)\n"
          ]
        }
      ],
      "source": [
        "!pip install langdetect"
      ]
    },
    {
      "cell_type": "markdown",
      "metadata": {
        "id": "We7s1GSTmeJn"
      },
      "source": [
        "#### Language Detection"
      ]
    },
    {
      "cell_type": "code",
      "execution_count": 9,
      "metadata": {
        "colab": {
          "base_uri": "https://localhost:8080/",
          "height": 175
        },
        "id": "ESR6uGtndx3r",
        "outputId": "9904f8ae-f65a-470f-9e76-16a3a42359e0"
      },
      "outputs": [
        {
          "output_type": "execute_result",
          "data": {
            "text/html": [
              "\n",
              "  <div id=\"df-986800ce-d24d-4ef8-9d2d-cf75bc99d408\">\n",
              "    <div class=\"colab-df-container\">\n",
              "      <div>\n",
              "<style scoped>\n",
              "    .dataframe tbody tr th:only-of-type {\n",
              "        vertical-align: middle;\n",
              "    }\n",
              "\n",
              "    .dataframe tbody tr th {\n",
              "        vertical-align: top;\n",
              "    }\n",
              "\n",
              "    .dataframe thead th {\n",
              "        text-align: right;\n",
              "    }\n",
              "</style>\n",
              "<table border=\"1\" class=\"dataframe\">\n",
              "  <thead>\n",
              "    <tr style=\"text-align: right;\">\n",
              "      <th></th>\n",
              "      <th>BLOG</th>\n",
              "      <th>GENDER</th>\n",
              "      <th>lang</th>\n",
              "    </tr>\n",
              "  </thead>\n",
              "  <tbody>\n",
              "    <tr>\n",
              "      <th>766</th>\n",
              "      <td>Bonjour à tous et bienvenue! Moi, gourmande ?...</td>\n",
              "      <td>F</td>\n",
              "      <td>fr</td>\n",
              "    </tr>\n",
              "    <tr>\n",
              "      <th>885</th>\n",
              "      <td>Ada apa dengan pelayar web Opera 10.50? Hmm.....</td>\n",
              "      <td>M</td>\n",
              "      <td>id</td>\n",
              "    </tr>\n",
              "    <tr>\n",
              "      <th>1421</th>\n",
              "      <td>Sair para comer a dois é uma aventura que eu ...</td>\n",
              "      <td>M</td>\n",
              "      <td>pt</td>\n",
              "    </tr>\n",
              "    <tr>\n",
              "      <th>1621</th>\n",
              "      <td>????? ??? ??????? ????¢ ¢????? ???? ??????? ??...</td>\n",
              "      <td>M</td>\n",
              "      <td>tl</td>\n",
              "    </tr>\n",
              "  </tbody>\n",
              "</table>\n",
              "</div>\n",
              "      <button class=\"colab-df-convert\" onclick=\"convertToInteractive('df-986800ce-d24d-4ef8-9d2d-cf75bc99d408')\"\n",
              "              title=\"Convert this dataframe to an interactive table.\"\n",
              "              style=\"display:none;\">\n",
              "        \n",
              "  <svg xmlns=\"http://www.w3.org/2000/svg\" height=\"24px\"viewBox=\"0 0 24 24\"\n",
              "       width=\"24px\">\n",
              "    <path d=\"M0 0h24v24H0V0z\" fill=\"none\"/>\n",
              "    <path d=\"M18.56 5.44l.94 2.06.94-2.06 2.06-.94-2.06-.94-.94-2.06-.94 2.06-2.06.94zm-11 1L8.5 8.5l.94-2.06 2.06-.94-2.06-.94L8.5 2.5l-.94 2.06-2.06.94zm10 10l.94 2.06.94-2.06 2.06-.94-2.06-.94-.94-2.06-.94 2.06-2.06.94z\"/><path d=\"M17.41 7.96l-1.37-1.37c-.4-.4-.92-.59-1.43-.59-.52 0-1.04.2-1.43.59L10.3 9.45l-7.72 7.72c-.78.78-.78 2.05 0 2.83L4 21.41c.39.39.9.59 1.41.59.51 0 1.02-.2 1.41-.59l7.78-7.78 2.81-2.81c.8-.78.8-2.07 0-2.86zM5.41 20L4 18.59l7.72-7.72 1.47 1.35L5.41 20z\"/>\n",
              "  </svg>\n",
              "      </button>\n",
              "      \n",
              "  <style>\n",
              "    .colab-df-container {\n",
              "      display:flex;\n",
              "      flex-wrap:wrap;\n",
              "      gap: 12px;\n",
              "    }\n",
              "\n",
              "    .colab-df-convert {\n",
              "      background-color: #E8F0FE;\n",
              "      border: none;\n",
              "      border-radius: 50%;\n",
              "      cursor: pointer;\n",
              "      display: none;\n",
              "      fill: #1967D2;\n",
              "      height: 32px;\n",
              "      padding: 0 0 0 0;\n",
              "      width: 32px;\n",
              "    }\n",
              "\n",
              "    .colab-df-convert:hover {\n",
              "      background-color: #E2EBFA;\n",
              "      box-shadow: 0px 1px 2px rgba(60, 64, 67, 0.3), 0px 1px 3px 1px rgba(60, 64, 67, 0.15);\n",
              "      fill: #174EA6;\n",
              "    }\n",
              "\n",
              "    [theme=dark] .colab-df-convert {\n",
              "      background-color: #3B4455;\n",
              "      fill: #D2E3FC;\n",
              "    }\n",
              "\n",
              "    [theme=dark] .colab-df-convert:hover {\n",
              "      background-color: #434B5C;\n",
              "      box-shadow: 0px 1px 3px 1px rgba(0, 0, 0, 0.15);\n",
              "      filter: drop-shadow(0px 1px 2px rgba(0, 0, 0, 0.3));\n",
              "      fill: #FFFFFF;\n",
              "    }\n",
              "  </style>\n",
              "\n",
              "      <script>\n",
              "        const buttonEl =\n",
              "          document.querySelector('#df-986800ce-d24d-4ef8-9d2d-cf75bc99d408 button.colab-df-convert');\n",
              "        buttonEl.style.display =\n",
              "          google.colab.kernel.accessAllowed ? 'block' : 'none';\n",
              "\n",
              "        async function convertToInteractive(key) {\n",
              "          const element = document.querySelector('#df-986800ce-d24d-4ef8-9d2d-cf75bc99d408');\n",
              "          const dataTable =\n",
              "            await google.colab.kernel.invokeFunction('convertToInteractive',\n",
              "                                                     [key], {});\n",
              "          if (!dataTable) return;\n",
              "\n",
              "          const docLinkHtml = 'Like what you see? Visit the ' +\n",
              "            '<a target=\"_blank\" href=https://colab.research.google.com/notebooks/data_table.ipynb>data table notebook</a>'\n",
              "            + ' to learn more about interactive tables.';\n",
              "          element.innerHTML = '';\n",
              "          dataTable['output_type'] = 'display_data';\n",
              "          await google.colab.output.renderOutput(dataTable, element);\n",
              "          const docLink = document.createElement('div');\n",
              "          docLink.innerHTML = docLinkHtml;\n",
              "          element.appendChild(docLink);\n",
              "        }\n",
              "      </script>\n",
              "    </div>\n",
              "  </div>\n",
              "  "
            ],
            "text/plain": [
              "                                                   BLOG GENDER lang\n",
              "766    Bonjour à tous et bienvenue! Moi, gourmande ?...      F   fr\n",
              "885    Ada apa dengan pelayar web Opera 10.50? Hmm.....      M   id\n",
              "1421   Sair para comer a dois é uma aventura que eu ...      M   pt\n",
              "1621  ????? ??? ??????? ????¢ ¢????? ???? ??????? ??...      M   tl"
            ]
          },
          "metadata": {},
          "execution_count": 9
        }
      ],
      "source": [
        "import langdetect \n",
        "\n",
        "data['lang'] = data[\"BLOG\"].apply(lambda x: langdetect.detect(x) if \n",
        "                                 x.strip() != \"\" else \"\")\n",
        "data[data.lang != 'en']"
      ]
    },
    {
      "cell_type": "code",
      "execution_count": 10,
      "metadata": {
        "colab": {
          "base_uri": "https://localhost:8080/",
          "height": 402
        },
        "id": "x2SUm_hUeeLg",
        "outputId": "12486218-fdf6-45d3-bd0d-b26bff359304"
      },
      "outputs": [
        {
          "output_type": "stream",
          "name": "stdout",
          "text": [
            "en    2595\n",
            "fr       1\n",
            "id       1\n",
            "pt       1\n",
            "tl       1\n",
            "Name: lang, dtype: int64\n"
          ]
        },
        {
          "output_type": "display_data",
          "data": {
            "image/png": "[encoded data removed]",
            "text/plain": [
              "<Figure size 432x288 with 1 Axes>"
            ]
          },
          "metadata": {
            "needs_background": "light"
          }
        }
      ],
      "source": [
        "bar_graph('lang')"
      ]
    },
    {
      "cell_type": "markdown",
      "metadata": {
        "id": "Gnr8fDrlmw7p"
      },
      "source": [
        "Filtering only english language"
      ]
    },
    {
      "cell_type": "code",
      "execution_count": 11,
      "metadata": {
        "id": "NcgqD38Jg5rv"
      },
      "outputs": [],
      "source": [
        "data.drop(data.loc[data['lang']!='en'].index, inplace=True)"
      ]
    },
    {
      "cell_type": "markdown",
      "metadata": {
        "id": "7a89HnL6j6FD"
      },
      "source": [
        "### Text Preprocessing and Length analysis\n",
        "\n",
        "### Text Preprocessing\n",
        "\n",
        "* Punctuation Removal\n",
        "* Lowering the text\n",
        "* Stop word removal\n",
        "* Stemming - Optional depending on use case\n",
        "* Lemmatization - Optional depending on use case"
      ]
    },
    {
      "cell_type": "code",
      "execution_count": 12,
      "metadata": {
        "id": "mmpznksfwU0D"
      },
      "outputs": [],
      "source": [
        "def clean_text(x):\n",
        "  try:\n",
        "    x = x.encode('ascii', 'ignore').decode() #'ascii')\n",
        "    x = re.sub('[%s]' % re.escape(string.punctuation), ' ', x)\n",
        "    x = ' '.join([word for word in x.split(' ') if word not in stopwords.words('english')])\n",
        "    x = re.sub(r'[^\\w\\s]', '', str(x).lower().strip())\n",
        "    stemmer = LancasterStemmer()\n",
        "    lemmatizer = WordNetLemmatizer()\n",
        "    #x = stemmer.stem(x)\n",
        "    #x = lemmatizer.lemmatize(x, pos='v')\n",
        "    return x\n",
        "  except Exception as e:\n",
        "    print(x,e)\n",
        "\n",
        "def tokenize(x):\n",
        "  x = nltk.word_tokenize(x)\n",
        "  return x"
      ]
    },
    {
      "cell_type": "markdown",
      "metadata": {
        "id": "EJ1qNIoWkbmp"
      },
      "source": [
        "####Length analysis"
      ]
    },
    {
      "cell_type": "code",
      "execution_count": 13,
      "metadata": {
        "colab": {
          "base_uri": "https://localhost:8080/",
          "height": 337
        },
        "id": "M8Bjto52aPo7",
        "outputId": "a06e5627-abd8-4f85-d6c7-43f72ee58b17"
      },
      "outputs": [
        {
          "output_type": "execute_result",
          "data": {
            "text/html": [
              "\n",
              "  <div id=\"df-2348916b-6342-43e2-9704-42521ee86e48\">\n",
              "    <div class=\"colab-df-container\">\n",
              "      <div>\n",
              "<style scoped>\n",
              "    .dataframe tbody tr th:only-of-type {\n",
              "        vertical-align: middle;\n",
              "    }\n",
              "\n",
              "    .dataframe tbody tr th {\n",
              "        vertical-align: top;\n",
              "    }\n",
              "\n",
              "    .dataframe thead th {\n",
              "        text-align: right;\n",
              "    }\n",
              "</style>\n",
              "<table border=\"1\" class=\"dataframe\">\n",
              "  <thead>\n",
              "    <tr style=\"text-align: right;\">\n",
              "      <th></th>\n",
              "      <th>BLOG</th>\n",
              "      <th>GENDER</th>\n",
              "      <th>lang</th>\n",
              "      <th>CLEAN_BLOG</th>\n",
              "      <th>CLEAN_BLOG_V1</th>\n",
              "      <th>WORD_COUNT</th>\n",
              "      <th>CHAR_COUNT</th>\n",
              "      <th>SENTENCE_COUNT</th>\n",
              "      <th>AVG_WORD_LENGTH</th>\n",
              "      <th>AVG_SENTENCE_LENGTH</th>\n",
              "    </tr>\n",
              "  </thead>\n",
              "  <tbody>\n",
              "    <tr>\n",
              "      <th>0</th>\n",
              "      <td>Beyond Getting There: What Travel Days Show U...</td>\n",
              "      <td>F</td>\n",
              "      <td>en</td>\n",
              "      <td>beyond getting there  what travel days show us...</td>\n",
              "      <td>[beyond, getting, there, what, travel, days, s...</td>\n",
              "      <td>689</td>\n",
              "      <td>3272</td>\n",
              "      <td>27</td>\n",
              "      <td>4.748911</td>\n",
              "      <td>25.518519</td>\n",
              "    </tr>\n",
              "    <tr>\n",
              "      <th>1</th>\n",
              "      <td>I remember so much about the island; the large...</td>\n",
              "      <td>F</td>\n",
              "      <td>en</td>\n",
              "      <td>i remember much island  large lighthouse helpe...</td>\n",
              "      <td>[i, remember, much, island, large, lighthouse,...</td>\n",
              "      <td>241</td>\n",
              "      <td>1078</td>\n",
              "      <td>9</td>\n",
              "      <td>4.473029</td>\n",
              "      <td>26.777778</td>\n",
              "    </tr>\n",
              "    <tr>\n",
              "      <th>2</th>\n",
              "      <td>I have had asthma and allergies my entire life...</td>\n",
              "      <td>M</td>\n",
              "      <td>en</td>\n",
              "      <td>i asthma allergies entire life  while i bet ma...</td>\n",
              "      <td>[i, asthma, allergies, entire, life, while, i,...</td>\n",
              "      <td>238</td>\n",
              "      <td>1048</td>\n",
              "      <td>20</td>\n",
              "      <td>4.403361</td>\n",
              "      <td>11.900000</td>\n",
              "    </tr>\n",
              "    <tr>\n",
              "      <th>3</th>\n",
              "      <td>The last few days have been an emotional rolle...</td>\n",
              "      <td>M</td>\n",
              "      <td>en</td>\n",
              "      <td>the last days emotional rollercoaster team beh...</td>\n",
              "      <td>[the, last, days, emotional, rollercoaster, te...</td>\n",
              "      <td>102</td>\n",
              "      <td>495</td>\n",
              "      <td>6</td>\n",
              "      <td>4.852941</td>\n",
              "      <td>17.000000</td>\n",
              "    </tr>\n",
              "    <tr>\n",
              "      <th>4</th>\n",
              "      <td>If you lined up all the teachers and staff in ...</td>\n",
              "      <td>F</td>\n",
              "      <td>en</td>\n",
              "      <td>if lined teachers staff school search might po...</td>\n",
              "      <td>[if, lined, teachers, staff, school, search, m...</td>\n",
              "      <td>211</td>\n",
              "      <td>900</td>\n",
              "      <td>22</td>\n",
              "      <td>4.265403</td>\n",
              "      <td>9.590909</td>\n",
              "    </tr>\n",
              "  </tbody>\n",
              "</table>\n",
              "</div>\n",
              "      <button class=\"colab-df-convert\" onclick=\"convertToInteractive('df-2348916b-6342-43e2-9704-42521ee86e48')\"\n",
              "              title=\"Convert this dataframe to an interactive table.\"\n",
              "              style=\"display:none;\">\n",
              "        \n",
              "  <svg xmlns=\"http://www.w3.org/2000/svg\" height=\"24px\"viewBox=\"0 0 24 24\"\n",
              "       width=\"24px\">\n",
              "    <path d=\"M0 0h24v24H0V0z\" fill=\"none\"/>\n",
              "    <path d=\"M18.56 5.44l.94 2.06.94-2.06 2.06-.94-2.06-.94-.94-2.06-.94 2.06-2.06.94zm-11 1L8.5 8.5l.94-2.06 2.06-.94-2.06-.94L8.5 2.5l-.94 2.06-2.06.94zm10 10l.94 2.06.94-2.06 2.06-.94-2.06-.94-.94-2.06-.94 2.06-2.06.94z\"/><path d=\"M17.41 7.96l-1.37-1.37c-.4-.4-.92-.59-1.43-.59-.52 0-1.04.2-1.43.59L10.3 9.45l-7.72 7.72c-.78.78-.78 2.05 0 2.83L4 21.41c.39.39.9.59 1.41.59.51 0 1.02-.2 1.41-.59l7.78-7.78 2.81-2.81c.8-.78.8-2.07 0-2.86zM5.41 20L4 18.59l7.72-7.72 1.47 1.35L5.41 20z\"/>\n",
              "  </svg>\n",
              "      </button>\n",
              "      \n",
              "  <style>\n",
              "    .colab-df-container {\n",
              "      display:flex;\n",
              "      flex-wrap:wrap;\n",
              "      gap: 12px;\n",
              "    }\n",
              "\n",
              "    .colab-df-convert {\n",
              "      background-color: #E8F0FE;\n",
              "      border: none;\n",
              "      border-radius: 50%;\n",
              "      cursor: pointer;\n",
              "      display: none;\n",
              "      fill: #1967D2;\n",
              "      height: 32px;\n",
              "      padding: 0 0 0 0;\n",
              "      width: 32px;\n",
              "    }\n",
              "\n",
              "    .colab-df-convert:hover {\n",
              "      background-color: #E2EBFA;\n",
              "      box-shadow: 0px 1px 2px rgba(60, 64, 67, 0.3), 0px 1px 3px 1px rgba(60, 64, 67, 0.15);\n",
              "      fill: #174EA6;\n",
              "    }\n",
              "\n",
              "    [theme=dark] .colab-df-convert {\n",
              "      background-color: #3B4455;\n",
              "      fill: #D2E3FC;\n",
              "    }\n",
              "\n",
              "    [theme=dark] .colab-df-convert:hover {\n",
              "      background-color: #434B5C;\n",
              "      box-shadow: 0px 1px 3px 1px rgba(0, 0, 0, 0.15);\n",
              "      filter: drop-shadow(0px 1px 2px rgba(0, 0, 0, 0.3));\n",
              "      fill: #FFFFFF;\n",
              "    }\n",
              "  </style>\n",
              "\n",
              "      <script>\n",
              "        const buttonEl =\n",
              "          document.querySelector('#df-2348916b-6342-43e2-9704-42521ee86e48 button.colab-df-convert');\n",
              "        buttonEl.style.display =\n",
              "          google.colab.kernel.accessAllowed ? 'block' : 'none';\n",
              "\n",
              "        async function convertToInteractive(key) {\n",
              "          const element = document.querySelector('#df-2348916b-6342-43e2-9704-42521ee86e48');\n",
              "          const dataTable =\n",
              "            await google.colab.kernel.invokeFunction('convertToInteractive',\n",
              "                                                     [key], {});\n",
              "          if (!dataTable) return;\n",
              "\n",
              "          const docLinkHtml = 'Like what you see? Visit the ' +\n",
              "            '<a target=\"_blank\" href=https://colab.research.google.com/notebooks/data_table.ipynb>data table notebook</a>'\n",
              "            + ' to learn more about interactive tables.';\n",
              "          element.innerHTML = '';\n",
              "          dataTable['output_type'] = 'display_data';\n",
              "          await google.colab.output.renderOutput(dataTable, element);\n",
              "          const docLink = document.createElement('div');\n",
              "          docLink.innerHTML = docLinkHtml;\n",
              "          element.appendChild(docLink);\n",
              "        }\n",
              "      </script>\n",
              "    </div>\n",
              "  </div>\n",
              "  "
            ],
            "text/plain": [
              "                                                BLOG  ... AVG_SENTENCE_LENGTH\n",
              "0   Beyond Getting There: What Travel Days Show U...  ...           25.518519\n",
              "1  I remember so much about the island; the large...  ...           26.777778\n",
              "2  I have had asthma and allergies my entire life...  ...           11.900000\n",
              "3  The last few days have been an emotional rolle...  ...           17.000000\n",
              "4  If you lined up all the teachers and staff in ...  ...            9.590909\n",
              "\n",
              "[5 rows x 10 columns]"
            ]
          },
          "metadata": {},
          "execution_count": 13
        }
      ],
      "source": [
        "data['CLEAN_BLOG'] = data.BLOG.apply(clean_text)\n",
        "data['CLEAN_BLOG_V1'] = data.CLEAN_BLOG.apply(tokenize)\n",
        "data['WORD_COUNT'] = data[\"BLOG\"].apply(lambda x: len(str(x).split(\" \")))\n",
        "data['CHAR_COUNT'] = data[\"BLOG\"].apply(lambda x: sum(len(word) for word in str(x).split(\" \")))\n",
        "data['SENTENCE_COUNT'] = data[\"BLOG\"].apply(lambda x: len(str(x).split(\".\")))\n",
        "data['AVG_WORD_LENGTH'] = data['CHAR_COUNT'] / data['WORD_COUNT']\n",
        "data['AVG_SENTENCE_LENGTH'] = data['WORD_COUNT'] / data['SENTENCE_COUNT']\n",
        "data.head()"
      ]
    },
    {
      "cell_type": "code",
      "execution_count": 14,
      "metadata": {
        "colab": {
          "base_uri": "https://localhost:8080/",
          "height": 420
        },
        "id": "SfIb4IjyK7k8",
        "outputId": "82d4bdbb-e596-42db-8813-88f603406d11"
      },
      "outputs": [
        {
          "output_type": "stream",
          "name": "stdout",
          "text": [
            "y dimention:  (2595,)\n",
            "0    1299\n",
            "1    1296\n",
            "Name: GENDER, dtype: int64\n",
            "F    1299\n",
            "M    1296\n",
            "Name: GENDER, dtype: int64\n"
          ]
        },
        {
          "output_type": "display_data",
          "data": {
            "image/png": "[encoded data removed]",
            "text/plain": [
              "<Figure size 432x288 with 1 Axes>"
            ]
          },
          "metadata": {
            "needs_background": "light"
          }
        }
      ],
      "source": [
        "y = data.GENDER.replace({'M': 1, 'F': 0})\n",
        "print('y dimention: ', y.shape)\n",
        "print(y.value_counts())\n",
        "bar_graph('GENDER')"
      ]
    },
    {
      "cell_type": "code",
      "execution_count": 15,
      "metadata": {
        "colab": {
          "base_uri": "https://localhost:8080/",
          "height": 198
        },
        "id": "WH9jBAA0wLgA",
        "outputId": "b1f3ebae-b473-4527-ecc1-e77ab2837250"
      },
      "outputs": [
        {
          "output_type": "display_data",
          "data": {
            "image/png": "[encoded data removed]",
            "text/plain": [
              "<Figure size 432x288 with 1 Axes>"
            ]
          },
          "metadata": {
            "needs_background": "light"
          }
        }
      ],
      "source": [
        "from wordcloud import WordCloud, STOPWORDS\n",
        "\n",
        "text = data['CLEAN_BLOG_V1'].values \n",
        "\n",
        "wordcloud = WordCloud( background_color ='white', \n",
        "            #stopwords = stopwords, \n",
        "            max_font_size = 50).generate(str(text))\n",
        "\n",
        "plt.imshow(wordcloud)\n",
        "plt.axis(\"off\")\n",
        "plt.show()"
      ]
    },
    {
      "cell_type": "code",
      "execution_count": 16,
      "metadata": {
        "colab": {
          "base_uri": "https://localhost:8080/",
          "height": 206
        },
        "id": "r6I9bXIav7az",
        "outputId": "d90b78fe-eab9-4a47-b7f7-994a02c610bc"
      },
      "outputs": [
        {
          "output_type": "execute_result",
          "data": {
            "text/html": [
              "\n",
              "  <div id=\"df-9a13a6b3-15c0-4c5f-9511-5751103c4c28\">\n",
              "    <div class=\"colab-df-container\">\n",
              "      <div>\n",
              "<style scoped>\n",
              "    .dataframe tbody tr th:only-of-type {\n",
              "        vertical-align: middle;\n",
              "    }\n",
              "\n",
              "    .dataframe tbody tr th {\n",
              "        vertical-align: top;\n",
              "    }\n",
              "\n",
              "    .dataframe thead th {\n",
              "        text-align: right;\n",
              "    }\n",
              "</style>\n",
              "<table border=\"1\" class=\"dataframe\">\n",
              "  <thead>\n",
              "    <tr style=\"text-align: right;\">\n",
              "      <th></th>\n",
              "      <th>WORD_COUNT</th>\n",
              "      <th>CHAR_COUNT</th>\n",
              "      <th>SENTENCE_COUNT</th>\n",
              "      <th>AVG_WORD_LENGTH</th>\n",
              "      <th>AVG_SENTENCE_LENGTH</th>\n",
              "    </tr>\n",
              "  </thead>\n",
              "  <tbody>\n",
              "    <tr>\n",
              "      <th>0</th>\n",
              "      <td>689</td>\n",
              "      <td>3272</td>\n",
              "      <td>27</td>\n",
              "      <td>4.748911</td>\n",
              "      <td>25.518519</td>\n",
              "    </tr>\n",
              "    <tr>\n",
              "      <th>1</th>\n",
              "      <td>241</td>\n",
              "      <td>1078</td>\n",
              "      <td>9</td>\n",
              "      <td>4.473029</td>\n",
              "      <td>26.777778</td>\n",
              "    </tr>\n",
              "    <tr>\n",
              "      <th>2</th>\n",
              "      <td>238</td>\n",
              "      <td>1048</td>\n",
              "      <td>20</td>\n",
              "      <td>4.403361</td>\n",
              "      <td>11.900000</td>\n",
              "    </tr>\n",
              "    <tr>\n",
              "      <th>3</th>\n",
              "      <td>102</td>\n",
              "      <td>495</td>\n",
              "      <td>6</td>\n",
              "      <td>4.852941</td>\n",
              "      <td>17.000000</td>\n",
              "    </tr>\n",
              "    <tr>\n",
              "      <th>4</th>\n",
              "      <td>211</td>\n",
              "      <td>900</td>\n",
              "      <td>22</td>\n",
              "      <td>4.265403</td>\n",
              "      <td>9.590909</td>\n",
              "    </tr>\n",
              "  </tbody>\n",
              "</table>\n",
              "</div>\n",
              "      <button class=\"colab-df-convert\" onclick=\"convertToInteractive('df-9a13a6b3-15c0-4c5f-9511-5751103c4c28')\"\n",
              "              title=\"Convert this dataframe to an interactive table.\"\n",
              "              style=\"display:none;\">\n",
              "        \n",
              "  <svg xmlns=\"http://www.w3.org/2000/svg\" height=\"24px\"viewBox=\"0 0 24 24\"\n",
              "       width=\"24px\">\n",
              "    <path d=\"M0 0h24v24H0V0z\" fill=\"none\"/>\n",
              "    <path d=\"M18.56 5.44l.94 2.06.94-2.06 2.06-.94-2.06-.94-.94-2.06-.94 2.06-2.06.94zm-11 1L8.5 8.5l.94-2.06 2.06-.94-2.06-.94L8.5 2.5l-.94 2.06-2.06.94zm10 10l.94 2.06.94-2.06 2.06-.94-2.06-.94-.94-2.06-.94 2.06-2.06.94z\"/><path d=\"M17.41 7.96l-1.37-1.37c-.4-.4-.92-.59-1.43-.59-.52 0-1.04.2-1.43.59L10.3 9.45l-7.72 7.72c-.78.78-.78 2.05 0 2.83L4 21.41c.39.39.9.59 1.41.59.51 0 1.02-.2 1.41-.59l7.78-7.78 2.81-2.81c.8-.78.8-2.07 0-2.86zM5.41 20L4 18.59l7.72-7.72 1.47 1.35L5.41 20z\"/>\n",
              "  </svg>\n",
              "      </button>\n",
              "      \n",
              "  <style>\n",
              "    .colab-df-container {\n",
              "      display:flex;\n",
              "      flex-wrap:wrap;\n",
              "      gap: 12px;\n",
              "    }\n",
              "\n",
              "    .colab-df-convert {\n",
              "      background-color: #E8F0FE;\n",
              "      border: none;\n",
              "      border-radius: 50%;\n",
              "      cursor: pointer;\n",
              "      display: none;\n",
              "      fill: #1967D2;\n",
              "      height: 32px;\n",
              "      padding: 0 0 0 0;\n",
              "      width: 32px;\n",
              "    }\n",
              "\n",
              "    .colab-df-convert:hover {\n",
              "      background-color: #E2EBFA;\n",
              "      box-shadow: 0px 1px 2px rgba(60, 64, 67, 0.3), 0px 1px 3px 1px rgba(60, 64, 67, 0.15);\n",
              "      fill: #174EA6;\n",
              "    }\n",
              "\n",
              "    [theme=dark] .colab-df-convert {\n",
              "      background-color: #3B4455;\n",
              "      fill: #D2E3FC;\n",
              "    }\n",
              "\n",
              "    [theme=dark] .colab-df-convert:hover {\n",
              "      background-color: #434B5C;\n",
              "      box-shadow: 0px 1px 3px 1px rgba(0, 0, 0, 0.15);\n",
              "      filter: drop-shadow(0px 1px 2px rgba(0, 0, 0, 0.3));\n",
              "      fill: #FFFFFF;\n",
              "    }\n",
              "  </style>\n",
              "\n",
              "      <script>\n",
              "        const buttonEl =\n",
              "          document.querySelector('#df-9a13a6b3-15c0-4c5f-9511-5751103c4c28 button.colab-df-convert');\n",
              "        buttonEl.style.display =\n",
              "          google.colab.kernel.accessAllowed ? 'block' : 'none';\n",
              "\n",
              "        async function convertToInteractive(key) {\n",
              "          const element = document.querySelector('#df-9a13a6b3-15c0-4c5f-9511-5751103c4c28');\n",
              "          const dataTable =\n",
              "            await google.colab.kernel.invokeFunction('convertToInteractive',\n",
              "                                                     [key], {});\n",
              "          if (!dataTable) return;\n",
              "\n",
              "          const docLinkHtml = 'Like what you see? Visit the ' +\n",
              "            '<a target=\"_blank\" href=https://colab.research.google.com/notebooks/data_table.ipynb>data table notebook</a>'\n",
              "            + ' to learn more about interactive tables.';\n",
              "          element.innerHTML = '';\n",
              "          dataTable['output_type'] = 'display_data';\n",
              "          await google.colab.output.renderOutput(dataTable, element);\n",
              "          const docLink = document.createElement('div');\n",
              "          docLink.innerHTML = docLinkHtml;\n",
              "          element.appendChild(docLink);\n",
              "        }\n",
              "      </script>\n",
              "    </div>\n",
              "  </div>\n",
              "  "
            ],
            "text/plain": [
              "   WORD_COUNT  CHAR_COUNT  SENTENCE_COUNT  AVG_WORD_LENGTH  AVG_SENTENCE_LENGTH\n",
              "0         689        3272              27         4.748911            25.518519\n",
              "1         241        1078               9         4.473029            26.777778\n",
              "2         238        1048              20         4.403361            11.900000\n",
              "3         102         495               6         4.852941            17.000000\n",
              "4         211         900              22         4.265403             9.590909"
            ]
          },
          "metadata": {},
          "execution_count": 16
        }
      ],
      "source": [
        "X_extra = data.drop(['BLOG','CLEAN_BLOG', 'GENDER','lang','CLEAN_BLOG_V1'], axis=1)\n",
        "X_extra.head()"
      ]
    },
    {
      "cell_type": "markdown",
      "metadata": {
        "id": "esKIrbcdk3Sa"
      },
      "source": [
        "#### Count Vectorizer\n"
      ]
    },
    {
      "cell_type": "code",
      "execution_count": 17,
      "metadata": {
        "id": "6FYymDsC-EEo"
      },
      "outputs": [],
      "source": [
        "from sklearn.feature_extraction.text import TfidfVectorizer\n",
        "from sklearn.feature_extraction.text import CountVectorizer\n",
        "from keras.preprocessing.text import Tokenizer\n",
        "from keras.preprocessing.sequence import pad_sequences"
      ]
    },
    {
      "cell_type": "code",
      "execution_count": 18,
      "metadata": {
        "colab": {
          "base_uri": "https://localhost:8080/"
        },
        "id": "2-8w5rdtq9Fx",
        "outputId": "5372efef-5f9f-411e-f37d-32f9b9bf7b92"
      },
      "outputs": [
        {
          "output_type": "stream",
          "name": "stdout",
          "text": [
            "X dimention:  (2595, 47630)\n"
          ]
        },
        {
          "output_type": "execute_result",
          "data": {
            "text/plain": [
              "[('beyond', 5109), ('getting', 17830)]"
            ]
          },
          "metadata": {},
          "execution_count": 18
        }
      ],
      "source": [
        "cv = CountVectorizer()\n",
        "X_CV = cv.fit_transform(data['CLEAN_BLOG'])\n",
        "X_CV = X_CV.todense()\n",
        "print('X dimention: ', X_CV.shape)\n",
        "list(cv.vocabulary_.items())[:2]"
      ]
    },
    {
      "cell_type": "code",
      "execution_count": 19,
      "metadata": {
        "colab": {
          "base_uri": "https://localhost:8080/"
        },
        "id": "bgiFWCHJx3hD",
        "outputId": "3ca76c2f-8f0e-428c-9866-15a7bdd2d2e5"
      },
      "outputs": [
        {
          "output_type": "execute_result",
          "data": {
            "text/plain": [
              "matrix([[0, 0, 0, ..., 0, 0, 0],\n",
              "        [0, 0, 0, ..., 0, 0, 0],\n",
              "        [0, 0, 0, ..., 0, 0, 0],\n",
              "        ...,\n",
              "        [0, 0, 0, ..., 0, 0, 0],\n",
              "        [0, 0, 0, ..., 0, 0, 0],\n",
              "        [0, 0, 0, ..., 0, 0, 0]])"
            ]
          },
          "metadata": {},
          "execution_count": 19
        }
      ],
      "source": [
        "X_CV"
      ]
    },
    {
      "cell_type": "markdown",
      "source": [
        "#### TF-IDF"
      ],
      "metadata": {
        "id": "dAwzTgj4GJPe"
      }
    },
    {
      "cell_type": "code",
      "execution_count": 20,
      "metadata": {
        "colab": {
          "base_uri": "https://localhost:8080/",
          "height": 479
        },
        "id": "n-4P07OI1ecO",
        "outputId": "9bd82baf-6a72-4157-9006-c120d7a07a25"
      },
      "outputs": [
        {
          "output_type": "stream",
          "name": "stderr",
          "text": [
            "/usr/local/lib/python3.7/dist-packages/sklearn/utils/deprecation.py:87: FutureWarning: Function get_feature_names is deprecated; get_feature_names is deprecated in 1.0 and will be removed in 1.2. Please use get_feature_names_out instead.\n",
            "  warnings.warn(msg, category=FutureWarning)\n"
          ]
        },
        {
          "output_type": "execute_result",
          "data": {
            "text/html": [
              "\n",
              "  <div id=\"df-41648184-036a-4d57-81a0-5644f833bb3c\">\n",
              "    <div class=\"colab-df-container\">\n",
              "      <div>\n",
              "<style scoped>\n",
              "    .dataframe tbody tr th:only-of-type {\n",
              "        vertical-align: middle;\n",
              "    }\n",
              "\n",
              "    .dataframe tbody tr th {\n",
              "        vertical-align: top;\n",
              "    }\n",
              "\n",
              "    .dataframe thead th {\n",
              "        text-align: right;\n",
              "    }\n",
              "</style>\n",
              "<table border=\"1\" class=\"dataframe\">\n",
              "  <thead>\n",
              "    <tr style=\"text-align: right;\">\n",
              "      <th></th>\n",
              "      <th>tfidf</th>\n",
              "    </tr>\n",
              "  </thead>\n",
              "  <tbody>\n",
              "    <tr>\n",
              "      <th>bus</th>\n",
              "      <td>0.292692</td>\n",
              "    </tr>\n",
              "    <tr>\n",
              "      <th>turkish</th>\n",
              "      <td>0.251722</td>\n",
              "    </tr>\n",
              "    <tr>\n",
              "      <th>travel</th>\n",
              "      <td>0.220074</td>\n",
              "    </tr>\n",
              "    <tr>\n",
              "      <th>traveling</th>\n",
              "      <td>0.182252</td>\n",
              "    </tr>\n",
              "    <tr>\n",
              "      <th>leaving</th>\n",
              "      <td>0.148443</td>\n",
              "    </tr>\n",
              "    <tr>\n",
              "      <th>...</th>\n",
              "      <td>...</td>\n",
              "    </tr>\n",
              "    <tr>\n",
              "      <th>fertility</th>\n",
              "      <td>0.000000</td>\n",
              "    </tr>\n",
              "    <tr>\n",
              "      <th>fertilizer</th>\n",
              "      <td>0.000000</td>\n",
              "    </tr>\n",
              "    <tr>\n",
              "      <th>fervent</th>\n",
              "      <td>0.000000</td>\n",
              "    </tr>\n",
              "    <tr>\n",
              "      <th>fervently</th>\n",
              "      <td>0.000000</td>\n",
              "    </tr>\n",
              "    <tr>\n",
              "      <th>zzzzzzzzzzzzzzzzzzzzzzzzzzzzzzzzzzzzzzzzzzzzzzzzzzzzzz</th>\n",
              "      <td>0.000000</td>\n",
              "    </tr>\n",
              "  </tbody>\n",
              "</table>\n",
              "<p>47324 rows × 1 columns</p>\n",
              "</div>\n",
              "      <button class=\"colab-df-convert\" onclick=\"convertToInteractive('df-41648184-036a-4d57-81a0-5644f833bb3c')\"\n",
              "              title=\"Convert this dataframe to an interactive table.\"\n",
              "              style=\"display:none;\">\n",
              "        \n",
              "  <svg xmlns=\"http://www.w3.org/2000/svg\" height=\"24px\"viewBox=\"0 0 24 24\"\n",
              "       width=\"24px\">\n",
              "    <path d=\"M0 0h24v24H0V0z\" fill=\"none\"/>\n",
              "    <path d=\"M18.56 5.44l.94 2.06.94-2.06 2.06-.94-2.06-.94-.94-2.06-.94 2.06-2.06.94zm-11 1L8.5 8.5l.94-2.06 2.06-.94-2.06-.94L8.5 2.5l-.94 2.06-2.06.94zm10 10l.94 2.06.94-2.06 2.06-.94-2.06-.94-.94-2.06-.94 2.06-2.06.94z\"/><path d=\"M17.41 7.96l-1.37-1.37c-.4-.4-.92-.59-1.43-.59-.52 0-1.04.2-1.43.59L10.3 9.45l-7.72 7.72c-.78.78-.78 2.05 0 2.83L4 21.41c.39.39.9.59 1.41.59.51 0 1.02-.2 1.41-.59l7.78-7.78 2.81-2.81c.8-.78.8-2.07 0-2.86zM5.41 20L4 18.59l7.72-7.72 1.47 1.35L5.41 20z\"/>\n",
              "  </svg>\n",
              "      </button>\n",
              "      \n",
              "  <style>\n",
              "    .colab-df-container {\n",
              "      display:flex;\n",
              "      flex-wrap:wrap;\n",
              "      gap: 12px;\n",
              "    }\n",
              "\n",
              "    .colab-df-convert {\n",
              "      background-color: #E8F0FE;\n",
              "      border: none;\n",
              "      border-radius: 50%;\n",
              "      cursor: pointer;\n",
              "      display: none;\n",
              "      fill: #1967D2;\n",
              "      height: 32px;\n",
              "      padding: 0 0 0 0;\n",
              "      width: 32px;\n",
              "    }\n",
              "\n",
              "    .colab-df-convert:hover {\n",
              "      background-color: #E2EBFA;\n",
              "      box-shadow: 0px 1px 2px rgba(60, 64, 67, 0.3), 0px 1px 3px 1px rgba(60, 64, 67, 0.15);\n",
              "      fill: #174EA6;\n",
              "    }\n",
              "\n",
              "    [theme=dark] .colab-df-convert {\n",
              "      background-color: #3B4455;\n",
              "      fill: #D2E3FC;\n",
              "    }\n",
              "\n",
              "    [theme=dark] .colab-df-convert:hover {\n",
              "      background-color: #434B5C;\n",
              "      box-shadow: 0px 1px 3px 1px rgba(0, 0, 0, 0.15);\n",
              "      filter: drop-shadow(0px 1px 2px rgba(0, 0, 0, 0.3));\n",
              "      fill: #FFFFFF;\n",
              "    }\n",
              "  </style>\n",
              "\n",
              "      <script>\n",
              "        const buttonEl =\n",
              "          document.querySelector('#df-41648184-036a-4d57-81a0-5644f833bb3c button.colab-df-convert');\n",
              "        buttonEl.style.display =\n",
              "          google.colab.kernel.accessAllowed ? 'block' : 'none';\n",
              "\n",
              "        async function convertToInteractive(key) {\n",
              "          const element = document.querySelector('#df-41648184-036a-4d57-81a0-5644f833bb3c');\n",
              "          const dataTable =\n",
              "            await google.colab.kernel.invokeFunction('convertToInteractive',\n",
              "                                                     [key], {});\n",
              "          if (!dataTable) return;\n",
              "\n",
              "          const docLinkHtml = 'Like what you see? Visit the ' +\n",
              "            '<a target=\"_blank\" href=https://colab.research.google.com/notebooks/data_table.ipynb>data table notebook</a>'\n",
              "            + ' to learn more about interactive tables.';\n",
              "          element.innerHTML = '';\n",
              "          dataTable['output_type'] = 'display_data';\n",
              "          await google.colab.output.renderOutput(dataTable, element);\n",
              "          const docLink = document.createElement('div');\n",
              "          docLink.innerHTML = docLinkHtml;\n",
              "          element.appendChild(docLink);\n",
              "        }\n",
              "      </script>\n",
              "    </div>\n",
              "  </div>\n",
              "  "
            ],
            "text/plain": [
              "                                                       tfidf\n",
              "bus                                                 0.292692\n",
              "turkish                                             0.251722\n",
              "travel                                              0.220074\n",
              "traveling                                           0.182252\n",
              "leaving                                             0.148443\n",
              "...                                                      ...\n",
              "fertility                                           0.000000\n",
              "fertilizer                                          0.000000\n",
              "fervent                                             0.000000\n",
              "fervently                                           0.000000\n",
              "zzzzzzzzzzzzzzzzzzzzzzzzzzzzzzzzzzzzzzzzzzzzzzz...  0.000000\n",
              "\n",
              "[47324 rows x 1 columns]"
            ]
          },
          "metadata": {},
          "execution_count": 20
        }
      ],
      "source": [
        "TF_IDF_Vect = TfidfVectorizer(stop_words='english',use_idf=True)\n",
        "X_TF =  TF_IDF_Vect.fit_transform(data['CLEAN_BLOG'])\n",
        "X_TF = X_TF.todense()\n",
        "first_vector_tfidfvectorizer=X_TF[0] \n",
        "# place tf-idf values in a pandas data frame \n",
        "#df = pd.DataFrame(first_vector_tfidfvectorizer.T.todense(), index=tfidf_vectorizer.get_feature_names(), columns=[\"tfidf\"]) df.sort_values(by=[\"tfidf\"],ascending=False)\n",
        "df = pd.DataFrame(first_vector_tfidfvectorizer.T, index=TF_IDF_Vect.get_feature_names(), columns=[\"tfidf\"])\n",
        "df.sort_values(by=[\"tfidf\"],ascending=False)"
      ]
    },
    {
      "cell_type": "code",
      "execution_count": 21,
      "metadata": {
        "colab": {
          "base_uri": "https://localhost:8080/"
        },
        "id": "VwxBPYtwOJkW",
        "outputId": "d3f8e091-bc93-4a1c-d2f8-443cbb40aa9b"
      },
      "outputs": [
        {
          "output_type": "stream",
          "name": "stdout",
          "text": [
            "(2595, 47324)\n"
          ]
        }
      ],
      "source": [
        "print(X_TF.shape)"
      ]
    },
    {
      "cell_type": "markdown",
      "source": [
        "#### Tokenizer"
      ],
      "metadata": {
        "id": "CWBBfxCXGFr7"
      }
    },
    {
      "cell_type": "code",
      "execution_count": 39,
      "metadata": {
        "colab": {
          "base_uri": "https://localhost:8080/"
        },
        "id": "-kh67gV3UEC_",
        "outputId": "ec34f827-f99a-4a0c-9a87-e07dec43192c"
      },
      "outputs": [
        {
          "output_type": "stream",
          "name": "stdout",
          "text": [
            "['i', 'asthma', 'allergies', 'entire', 'life', 'while', 'i', 'bet', 'many', 'asthmatics', 'might', 'disagree', 'i', 'think', 'allergies', 'far', 'worse', 'asthma', 'yes', 'i', 'say', 'i', 'think', 'allergies', 'suck', 'asthma', 'actually', 'easier', 'control', 'allergies', 'even', 'i', 'advair', 'finally', 'asthma', 'control', 'allergies', 'continued', 'irritate', 'crap', 'sure', 'allergy', 'shots', 'things', 'nothing', 'sting', 'arm', 'week', 'three', 'years', 'sure', 'antihystamines', 'decongestants', 'nasal', 'sprays', 'i', 'around', 'one', 'allergens', 'took', 'edge', 'annoying', 'feeling', 'get', 'sinuses', 'nose', 'you', 'sneeze', 'you', 'get', 'runny', 'nose', 'you', 'feel', 'right', 'miserable', 'i', 'rather', 'asthma', 'attack', 'a', 'worse', 'case', 'scenerio', 'asthma', 'go', 'er', 'yet', 'even', 'er', 'nothing', 'allergy', 'symptoms', 'this', 'change', 'however', 'invention', 'singulair', 'man', 'drug', 'awesome', 'anyway', 'advair', 'really', 'helps', 'now', 'i', 'actually', 'around', 'something', 'i', 'allergic', 'survive', 'like', 'flare', 'with', 'singulair', 'asthma', 'flares', 'still', 'occur', 'i', 'exposed', 'allergens', 'although', 'flares', 'near', 'bad', 'used']\n",
            "[1, 4253, 580, 32, 491, 1, 2123, 46, 122, 4600, 1, 19, 175, 983, 4253, 184, 1, 57, 1, 19, 2124, 4253, 125, 1034, 645, 21, 1, 247, 4253, 645, 1496, 2159, 100, 4981, 1605, 43, 219, 1649, 79, 124, 50, 100, 1, 55, 3, 152, 1855, 3002, 318, 7, 1998, 48, 48, 7, 1998, 48, 82, 53, 3222, 1, 256, 4253, 1674, 45, 983, 301, 4253, 31, 3072, 164, 21, 3072, 219, 4981, 3155, 26, 200, 231, 121, 2278, 685, 457, 13, 1444, 185, 1, 125, 55, 49, 1, 3156, 4, 387, 4253, 47, 3579, 1, 2877, 374, 712, 156, 119]\n",
            "Vocab size 47667\n"
          ]
        }
      ],
      "source": [
        "tokenizer = Tokenizer(num_words=5000)\n",
        "tokenizer.fit_on_texts(data['CLEAN_BLOG'])\n",
        "\n",
        "X_TOK = tokenizer.texts_to_sequences(data['CLEAN_BLOG'])\n",
        "\n",
        "vocab_size = len(tokenizer.word_index) + 1  # Adding 1 because of reserved 0 index\n",
        "\n",
        "print(data['CLEAN_BLOG_V1'][2])\n",
        "print(X_TOK[2])\n",
        "print('Vocab size',vocab_size)"
      ]
    },
    {
      "cell_type": "code",
      "execution_count": 40,
      "metadata": {
        "colab": {
          "base_uri": "https://localhost:8080/"
        },
        "id": "GeAesV29VJfG",
        "outputId": "267ed895-eb7e-44b6-d546-4769b4802cef"
      },
      "outputs": [
        {
          "output_type": "stream",
          "name": "stdout",
          "text": [
            "[   1  197   17 1193  485 1162  763 2359   46 1997    1  306 4104 2504\n",
            "  101   59    1 1854  664  297  306    8  365  362  188   26  306  418\n",
            " 1194   55 3154   76  309  246 4980  117 2505   94  697  711    1  196\n",
            "    1  197 1374  246  204  346 3960 2619   18 3472 1703 3836  304  171\n",
            "  451    1  197  947  107   24 1106  433  246  947    3  949 1149 2404\n",
            "  362 1374    1  246  126  857  288  104  243  830  211  101 1374  246\n",
            "  628 2095  697 1327   13   41   68  101 1267  474 1267 1223 1267 1374\n",
            "  204   32 1774 1457  543   46 1458   46 2122  858    1  197 1106 2505\n",
            "  204   46    0    0    0    0    0    0    0    0    0    0    0    0\n",
            "    0    0    0    0    0    0    0    0    0    0    0    0    0    0\n",
            "    0    0    0    0    0    0    0    0    0    0    0    0    0    0\n",
            "    0    0    0    0    0    0    0    0    0    0    0    0    0    0\n",
            "    0    0    0    0    0    0    0    0    0    0    0    0    0    0\n",
            "    0    0    0    0    0    0    0    0    0    0    0    0    0    0\n",
            "    0    0    0    0]\n",
            "length of Tokneizer:  200\n"
          ]
        }
      ],
      "source": [
        "maxlen = 200\n",
        "\n",
        "X_TOK = pad_sequences(X_TOK, padding='post', maxlen=maxlen)\n",
        "\n",
        "print(X_TOK[1, :])\n",
        "print('length of Tokneizer: ',len(X_TOK[1,:]))"
      ]
    },
    {
      "cell_type": "code",
      "execution_count": 41,
      "metadata": {
        "colab": {
          "base_uri": "https://localhost:8080/"
        },
        "id": "DspdWFUOnFjV",
        "outputId": "d9a3924c-926a-4b41-c807-c010a8185bf6"
      },
      "outputs": [
        {
          "output_type": "execute_result",
          "data": {
            "text/plain": [
              "(2595, 200)"
            ]
          },
          "metadata": {},
          "execution_count": 41
        }
      ],
      "source": [
        "X_TOK.shape"
      ]
    },
    {
      "cell_type": "markdown",
      "metadata": {
        "id": "HBCkUsUhlQTV"
      },
      "source": [
        "#### Dimentionality Reduction\n",
        "\n",
        "* SVD - Singular Value Decomposition\n",
        "* PCA - Principal component analysis"
      ]
    },
    {
      "cell_type": "code",
      "execution_count": 25,
      "metadata": {
        "id": "U0W3CC7usxwH"
      },
      "outputs": [],
      "source": [
        "from keras.wrappers.scikit_learn import KerasClassifier"
      ]
    },
    {
      "cell_type": "code",
      "execution_count": 26,
      "metadata": {
        "colab": {
          "base_uri": "https://localhost:8080/",
          "height": 555
        },
        "id": "s-PyEPJLp8tZ",
        "outputId": "12946a11-bed5-4159-eccd-2cd87fd9d482"
      },
      "outputs": [
        {
          "output_type": "stream",
          "name": "stderr",
          "text": [
            "/usr/local/lib/python3.7/dist-packages/sklearn/utils/validation.py:598: FutureWarning: np.matrix usage is deprecated in 1.0 and will raise a TypeError in 1.2. Please convert to a numpy array with np.asarray. For more information see: https://numpy.org/doc/stable/reference/generated/numpy.matrix.html\n",
            "  FutureWarning,\n"
          ]
        },
        {
          "output_type": "display_data",
          "data": {
            "image/png": "[encoded data removed]",
            "text/plain": [
              "<Figure size 864x576 with 1 Axes>"
            ]
          },
          "metadata": {
            "needs_background": "light"
          }
        }
      ],
      "source": [
        "from sklearn.decomposition import TruncatedSVD \n",
        "svd = TruncatedSVD(n_components=3, random_state=42).fit_transform(X_TF)#df[feat_cols].values)\n",
        "\n",
        "plt.figure(figsize=(12,8))\n",
        "plt.title('SVD Components')\n",
        "plt.scatter(svd[:,0], svd[:,1])\n",
        "plt.scatter(svd[:,1], svd[:,2])\n",
        "plt.scatter(svd[:,2],svd[:,0])\n",
        "X_SVD = pd.DataFrame(svd)"
      ]
    },
    {
      "cell_type": "code",
      "execution_count": 59,
      "metadata": {
        "id": "kWBuwTGI6N3B",
        "colab": {
          "base_uri": "https://localhost:8080/",
          "height": 355
        },
        "outputId": "28f679a3-b308-4070-ccbe-48845a936db5"
      },
      "outputs": [
        {
          "output_type": "stream",
          "name": "stderr",
          "text": [
            "/usr/local/lib/python3.7/dist-packages/sklearn/utils/validation.py:598: FutureWarning: np.matrix usage is deprecated in 1.0 and will raise a TypeError in 1.2. Please convert to a numpy array with np.asarray. For more information see: https://numpy.org/doc/stable/reference/generated/numpy.matrix.html\n",
            "  FutureWarning,\n"
          ]
        },
        {
          "output_type": "execute_result",
          "data": {
            "text/plain": [
              "Text(0.5, 1.0, 'Component-wise and Cumulative Explained Variance')"
            ]
          },
          "metadata": {},
          "execution_count": 59
        },
        {
          "output_type": "display_data",
          "data": {
            "image/png": "[encoded data removed]",
            "text/plain": [
              "<Figure size 432x288 with 1 Axes>"
            ]
          },
          "metadata": {
            "needs_background": "light"
          }
        }
      ],
      "source": [
        "from sklearn.decomposition import PCA\n",
        "\n",
        "# initialize PCA with 2 components\n",
        "pca = PCA(n_components=3)#, random_state=42)\n",
        "# pass our X to the pca and store the reduced vectors into pca_vecs\n",
        "pca_vecs = pca.fit_transform(X_TF)#.toarray())\n",
        "# save our two dimensions into x0 and x1\n",
        "x0 = pca_vecs[:, 0]\n",
        "x1 = pca_vecs[:, 1]\n",
        "x2 = pca_vecs[:, 2]\n",
        "X_PCA = pd.DataFrame(pca_vecs)\n",
        "\n",
        "plt.plot(range(3), pca.explained_variance_ratio_)\n",
        "plt.plot(range(3), np.cumsum(pca.explained_variance_ratio_))\n",
        "plt.title(\"Component-wise and Cumulative Explained Variance\")"
      ]
    },
    {
      "cell_type": "code",
      "execution_count": 60,
      "metadata": {
        "id": "Awk3jr6i0phL",
        "colab": {
          "base_uri": "https://localhost:8080/",
          "height": 517
        },
        "outputId": "28953855-a75d-4c99-e1b3-bf2ad9fc7562"
      },
      "outputs": [
        {
          "output_type": "execute_result",
          "data": {
            "text/plain": [
              "<matplotlib.collections.PathCollection at 0x7f3df64bd990>"
            ]
          },
          "metadata": {},
          "execution_count": 60
        },
        {
          "output_type": "display_data",
          "data": {
            "image/png": "[encoded data removed]",
            "text/plain": [
              "<Figure size 864x576 with 1 Axes>"
            ]
          },
          "metadata": {
            "needs_background": "light"
          }
        }
      ],
      "source": [
        "plt.figure(figsize=(12,8))\n",
        "plt.title('PCA Components')\n",
        "plt.scatter(pca_vecs[:,0], pca_vecs[:,1])\n",
        "plt.scatter(pca_vecs[:,1], pca_vecs[:,2])\n",
        "plt.scatter(pca_vecs[:,2], pca_vecs[:,0])"
      ]
    },
    {
      "cell_type": "code",
      "execution_count": 61,
      "metadata": {
        "id": "G7XRycsUJaLw",
        "colab": {
          "base_uri": "https://localhost:8080/",
          "height": 301
        },
        "outputId": "353db94c-6d21-4ead-9224-50c43c9d5270"
      },
      "outputs": [
        {
          "output_type": "execute_result",
          "data": {
            "text/plain": [
              "<matplotlib.axes._subplots.AxesSubplot at 0x7f3e00fd7f90>"
            ]
          },
          "metadata": {},
          "execution_count": 61
        },
        {
          "output_type": "display_data",
          "data": {
            "text/plain": [
              "<Figure size 432x288 with 0 Axes>"
            ]
          },
          "metadata": {}
        },
        {
          "output_type": "display_data",
          "data": {
            "image/png": "[encoded data removed]",
            "text/plain": [
              "<Figure size 432x288 with 1 Axes>"
            ]
          },
          "metadata": {
            "needs_background": "light"
          }
        }
      ],
      "source": [
        "plt.figure()\n",
        "X_PCA.plot.hist(stacked=True, bins=20)"
      ]
    },
    {
      "cell_type": "code",
      "execution_count": 66,
      "metadata": {
        "id": "Orr4PjrNRkug"
      },
      "outputs": [],
      "source": [
        "import matplotlib.pyplot as plt\n",
        "\n",
        "def plot_history(history):\n",
        "    acc = history.history['accuracy']\n",
        "    val_acc = history.history['val_accuracy']\n",
        "    loss = history.history['loss']\n",
        "    val_loss = history.history['val_loss']\n",
        "    x = range(1, len(acc) + 1)\n",
        "\n",
        "    plt.figure(figsize=(12, 5))\n",
        "    plt.subplot(1, 2, 1)\n",
        "    plt.plot(x, acc, 'b', label='Training acc')\n",
        "    plt.plot(x, val_acc, 'r', label='Validation acc')\n",
        "    plt.title('Training and validation accuracy')\n",
        "    plt.legend()\n",
        "    plt.subplot(1, 2, 2)\n",
        "    plt.plot(x, loss, 'b', label='Training loss')\n",
        "    plt.plot(x, val_loss, 'r', label='Validation loss')\n",
        "    plt.title('Training and validation loss')\n",
        "    plt.legend()"
      ]
    },
    {
      "cell_type": "markdown",
      "source": [
        "Deep Learning Model training and Evaluation"
      ],
      "metadata": {
        "id": "szhST5xxFjrl"
      }
    },
    {
      "cell_type": "code",
      "execution_count": 67,
      "metadata": {
        "id": "K-TEPxg1QOZj",
        "colab": {
          "base_uri": "https://localhost:8080/"
        },
        "outputId": "e874e1da-54ae-457b-be2a-5021a3bb4d56"
      },
      "outputs": [
        {
          "output_type": "stream",
          "name": "stdout",
          "text": [
            "Model: \"sequential_4\"\n",
            "_________________________________________________________________\n",
            " Layer (type)                Output Shape              Param #   \n",
            "=================================================================\n",
            " dense_12 (Dense)            (None, 20)                80        \n",
            "                                                                 \n",
            " dense_13 (Dense)            (None, 10)                210       \n",
            "                                                                 \n",
            " dense_14 (Dense)            (None, 1)                 11        \n",
            "                                                                 \n",
            "=================================================================\n",
            "Total params: 301\n",
            "Trainable params: 301\n",
            "Non-trainable params: 0\n",
            "_________________________________________________________________\n",
            "Epoch 1/50\n",
            "104/104 [==============================] - 2s 6ms/step - loss: 0.6911 - accuracy: 0.5617 - val_loss: 0.6881 - val_accuracy: 0.5665\n",
            "Epoch 2/50\n",
            "104/104 [==============================] - 0s 3ms/step - loss: 0.6850 - accuracy: 0.5780 - val_loss: 0.6801 - val_accuracy: 0.5665\n",
            "Epoch 3/50\n",
            "104/104 [==============================] - 0s 3ms/step - loss: 0.6784 - accuracy: 0.5886 - val_loss: 0.6741 - val_accuracy: 0.5857\n",
            "Epoch 4/50\n",
            "104/104 [==============================] - 0s 4ms/step - loss: 0.6742 - accuracy: 0.5872 - val_loss: 0.6695 - val_accuracy: 0.5973\n",
            "Epoch 5/50\n",
            "104/104 [==============================] - 0s 3ms/step - loss: 0.6707 - accuracy: 0.5901 - val_loss: 0.6672 - val_accuracy: 0.5954\n",
            "Epoch 6/50\n",
            "104/104 [==============================] - 0s 4ms/step - loss: 0.6690 - accuracy: 0.5920 - val_loss: 0.6652 - val_accuracy: 0.5992\n",
            "Epoch 7/50\n",
            "104/104 [==============================] - 0s 3ms/step - loss: 0.6684 - accuracy: 0.5896 - val_loss: 0.6656 - val_accuracy: 0.5896\n",
            "Epoch 8/50\n",
            "104/104 [==============================] - 0s 4ms/step - loss: 0.6675 - accuracy: 0.5930 - val_loss: 0.6637 - val_accuracy: 0.5992\n",
            "Epoch 9/50\n",
            "104/104 [==============================] - 0s 3ms/step - loss: 0.6667 - accuracy: 0.5968 - val_loss: 0.6632 - val_accuracy: 0.6050\n",
            "Epoch 10/50\n",
            "104/104 [==============================] - 0s 3ms/step - loss: 0.6670 - accuracy: 0.5978 - val_loss: 0.6642 - val_accuracy: 0.5838\n",
            "Epoch 11/50\n",
            "104/104 [==============================] - 0s 3ms/step - loss: 0.6662 - accuracy: 0.6007 - val_loss: 0.6624 - val_accuracy: 0.6031\n",
            "Epoch 12/50\n",
            "104/104 [==============================] - 0s 3ms/step - loss: 0.6659 - accuracy: 0.5954 - val_loss: 0.6628 - val_accuracy: 0.5954\n",
            "Epoch 13/50\n",
            "104/104 [==============================] - 0s 3ms/step - loss: 0.6658 - accuracy: 0.5959 - val_loss: 0.6626 - val_accuracy: 0.6012\n",
            "Epoch 14/50\n",
            "104/104 [==============================] - 0s 3ms/step - loss: 0.6649 - accuracy: 0.5987 - val_loss: 0.6617 - val_accuracy: 0.6031\n",
            "Epoch 15/50\n",
            "104/104 [==============================] - 0s 3ms/step - loss: 0.6648 - accuracy: 0.6012 - val_loss: 0.6615 - val_accuracy: 0.6050\n",
            "Epoch 16/50\n",
            "104/104 [==============================] - 0s 3ms/step - loss: 0.6643 - accuracy: 0.6069 - val_loss: 0.6615 - val_accuracy: 0.6012\n",
            "Epoch 17/50\n",
            "104/104 [==============================] - 0s 3ms/step - loss: 0.6645 - accuracy: 0.6050 - val_loss: 0.6615 - val_accuracy: 0.6050\n",
            "Epoch 18/50\n",
            "104/104 [==============================] - 0s 2ms/step - loss: 0.6641 - accuracy: 0.6002 - val_loss: 0.6615 - val_accuracy: 0.6012\n",
            "Epoch 19/50\n",
            "104/104 [==============================] - 0s 2ms/step - loss: 0.6635 - accuracy: 0.6012 - val_loss: 0.6614 - val_accuracy: 0.6089\n",
            "Epoch 20/50\n",
            "104/104 [==============================] - 0s 2ms/step - loss: 0.6636 - accuracy: 0.6036 - val_loss: 0.6623 - val_accuracy: 0.5973\n",
            "Epoch 21/50\n",
            "104/104 [==============================] - 0s 2ms/step - loss: 0.6637 - accuracy: 0.6012 - val_loss: 0.6623 - val_accuracy: 0.5954\n",
            "Epoch 22/50\n",
            "104/104 [==============================] - 0s 2ms/step - loss: 0.6637 - accuracy: 0.5992 - val_loss: 0.6624 - val_accuracy: 0.6050\n",
            "Epoch 23/50\n",
            "104/104 [==============================] - 0s 2ms/step - loss: 0.6623 - accuracy: 0.6093 - val_loss: 0.6630 - val_accuracy: 0.6069\n",
            "Epoch 24/50\n",
            "104/104 [==============================] - 0s 2ms/step - loss: 0.6634 - accuracy: 0.6065 - val_loss: 0.6624 - val_accuracy: 0.5992\n",
            "Epoch 25/50\n",
            "104/104 [==============================] - 0s 2ms/step - loss: 0.6626 - accuracy: 0.6021 - val_loss: 0.6625 - val_accuracy: 0.6108\n",
            "Epoch 26/50\n",
            "104/104 [==============================] - 0s 2ms/step - loss: 0.6635 - accuracy: 0.6002 - val_loss: 0.6617 - val_accuracy: 0.6050\n",
            "Epoch 27/50\n",
            "104/104 [==============================] - 0s 2ms/step - loss: 0.6627 - accuracy: 0.6031 - val_loss: 0.6633 - val_accuracy: 0.5877\n",
            "Epoch 28/50\n",
            "104/104 [==============================] - 0s 2ms/step - loss: 0.6625 - accuracy: 0.6060 - val_loss: 0.6619 - val_accuracy: 0.6069\n",
            "Epoch 29/50\n",
            "104/104 [==============================] - 0s 2ms/step - loss: 0.6630 - accuracy: 0.6040 - val_loss: 0.6617 - val_accuracy: 0.6069\n",
            "Epoch 30/50\n",
            "104/104 [==============================] - 0s 2ms/step - loss: 0.6626 - accuracy: 0.5963 - val_loss: 0.6619 - val_accuracy: 0.6050\n",
            "Epoch 31/50\n",
            "104/104 [==============================] - 0s 3ms/step - loss: 0.6620 - accuracy: 0.6113 - val_loss: 0.6619 - val_accuracy: 0.6089\n",
            "Epoch 32/50\n",
            "104/104 [==============================] - 0s 3ms/step - loss: 0.6624 - accuracy: 0.6002 - val_loss: 0.6626 - val_accuracy: 0.6069\n",
            "Epoch 33/50\n",
            "104/104 [==============================] - 0s 2ms/step - loss: 0.6623 - accuracy: 0.6002 - val_loss: 0.6625 - val_accuracy: 0.6127\n",
            "Epoch 34/50\n",
            "104/104 [==============================] - 0s 2ms/step - loss: 0.6621 - accuracy: 0.6084 - val_loss: 0.6622 - val_accuracy: 0.6089\n",
            "Epoch 35/50\n",
            "104/104 [==============================] - 0s 2ms/step - loss: 0.6619 - accuracy: 0.6002 - val_loss: 0.6622 - val_accuracy: 0.6108\n",
            "Epoch 36/50\n",
            "104/104 [==============================] - 0s 2ms/step - loss: 0.6626 - accuracy: 0.5983 - val_loss: 0.6626 - val_accuracy: 0.6127\n",
            "Epoch 37/50\n",
            "104/104 [==============================] - 0s 2ms/step - loss: 0.6623 - accuracy: 0.6031 - val_loss: 0.6625 - val_accuracy: 0.6166\n",
            "Epoch 38/50\n",
            "104/104 [==============================] - 0s 2ms/step - loss: 0.6620 - accuracy: 0.5987 - val_loss: 0.6622 - val_accuracy: 0.6127\n",
            "Epoch 39/50\n",
            "104/104 [==============================] - 0s 2ms/step - loss: 0.6611 - accuracy: 0.6026 - val_loss: 0.6641 - val_accuracy: 0.5857\n",
            "Epoch 40/50\n",
            "104/104 [==============================] - 0s 2ms/step - loss: 0.6620 - accuracy: 0.6012 - val_loss: 0.6631 - val_accuracy: 0.5954\n",
            "Epoch 41/50\n",
            "104/104 [==============================] - 0s 2ms/step - loss: 0.6618 - accuracy: 0.6065 - val_loss: 0.6624 - val_accuracy: 0.6185\n",
            "Epoch 42/50\n",
            "104/104 [==============================] - 0s 2ms/step - loss: 0.6615 - accuracy: 0.5983 - val_loss: 0.6625 - val_accuracy: 0.6050\n",
            "Epoch 43/50\n",
            "104/104 [==============================] - 0s 2ms/step - loss: 0.6617 - accuracy: 0.6045 - val_loss: 0.6626 - val_accuracy: 0.6108\n",
            "Epoch 44/50\n",
            "104/104 [==============================] - 0s 2ms/step - loss: 0.6616 - accuracy: 0.6031 - val_loss: 0.6626 - val_accuracy: 0.6127\n",
            "Epoch 45/50\n",
            "104/104 [==============================] - 0s 2ms/step - loss: 0.6613 - accuracy: 0.6089 - val_loss: 0.6630 - val_accuracy: 0.6050\n",
            "Epoch 46/50\n",
            "104/104 [==============================] - 0s 2ms/step - loss: 0.6618 - accuracy: 0.6040 - val_loss: 0.6625 - val_accuracy: 0.6127\n",
            "Epoch 47/50\n",
            "104/104 [==============================] - 0s 2ms/step - loss: 0.6623 - accuracy: 0.6012 - val_loss: 0.6630 - val_accuracy: 0.6108\n",
            "Epoch 48/50\n",
            "104/104 [==============================] - 0s 2ms/step - loss: 0.6621 - accuracy: 0.5987 - val_loss: 0.6627 - val_accuracy: 0.6127\n",
            "Epoch 49/50\n",
            "104/104 [==============================] - 0s 2ms/step - loss: 0.6615 - accuracy: 0.6002 - val_loss: 0.6631 - val_accuracy: 0.6127\n",
            "Epoch 50/50\n",
            "104/104 [==============================] - 0s 2ms/step - loss: 0.6615 - accuracy: 0.5987 - val_loss: 0.6635 - val_accuracy: 0.6031\n"
          ]
        }
      ],
      "source": [
        "from keras.models import Sequential\n",
        "from keras.layers import Dense\n",
        "from keras import layers\n",
        "from sklearn.model_selection import train_test_split, cross_val_score\n",
        "\n",
        "\n",
        "\n",
        "i = 2\n",
        "X_train,X_test,y_train,y_test=train_test_split(X_PCA,y,test_size=0.2, random_state=i)# split dataset\n",
        "input_dim = X_train.shape[1]  # Number of features\n",
        "\n",
        "model = Sequential()\n",
        "model.add(layers.Dense(20, input_dim=input_dim, activation='relu'))\n",
        "model.add(layers.Dense(10, activation='relu'))\n",
        "model.add(layers.Dense(1, activation='sigmoid'))\n",
        "model.compile(loss='binary_crossentropy', \n",
        "              optimizer='adam', \n",
        "              metrics=['accuracy'])\n",
        "model.summary()\n",
        "history = model.fit(X_train, y_train,\n",
        "                    epochs=50,\n",
        "                    verbose=True,\n",
        "                    validation_data=(X_test, y_test),\n",
        "                    batch_size=20)"
      ]
    },
    {
      "cell_type": "code",
      "execution_count": 68,
      "metadata": {
        "id": "5Tszg2S5TBu6",
        "colab": {
          "base_uri": "https://localhost:8080/",
          "height": 372
        },
        "outputId": "189fc3ef-2b72-4226-fdfe-f22b43e938de"
      },
      "outputs": [
        {
          "output_type": "stream",
          "name": "stdout",
          "text": [
            "Training Accuracy: 0.6108\n",
            "Testing Accuracy:  0.6031\n"
          ]
        },
        {
          "output_type": "display_data",
          "data": {
            "image/png": "[encoded data removed]",
            "text/plain": [
              "<Figure size 864x360 with 2 Axes>"
            ]
          },
          "metadata": {
            "needs_background": "light"
          }
        }
      ],
      "source": [
        "loss, accuracy = model.evaluate(X_train, y_train, verbose=False)\n",
        "print(\"Training Accuracy: {:.4f}\".format(accuracy))\n",
        "loss, accuracy = model.evaluate(X_test, y_test, verbose=False)\n",
        "print(\"Testing Accuracy:  {:.4f}\".format(accuracy))\n",
        "plot_history(history)"
      ]
    },
    {
      "cell_type": "markdown",
      "source": [
        "Import required models"
      ],
      "metadata": {
        "id": "031iRnatFZQL"
      }
    },
    {
      "cell_type": "code",
      "execution_count": 69,
      "metadata": {
        "id": "cI01ZRVE8nuY"
      },
      "outputs": [],
      "source": [
        "from sklearn.metrics import accuracy_score,confusion_matrix, classification_report\n",
        "from sklearn.tree import DecisionTreeClassifier # decision tee algorithm for classification\n",
        "from sklearn.naive_bayes import CategoricalNB, GaussianNB\n",
        "from sklearn.model_selection import train_test_split, cross_val_score\n",
        "from sklearn.ensemble import RandomForestClassifier, StackingClassifier, BaggingClassifier, AdaBoostClassifier\n",
        "from sklearn.linear_model import LogisticRegression\n",
        "from sklearn.svm import SVR,SVC\n",
        "from sklearn.metrics import accuracy_score, precision_score, recall_score, f1_score, plot_roc_curve\n",
        "import pickle\n",
        "import timeit, time"
      ]
    },
    {
      "cell_type": "code",
      "execution_count": 90,
      "metadata": {
        "id": "bG63w9bu6GgT"
      },
      "outputs": [],
      "source": [
        "def get_stacking():\n",
        "\t# define the base models: level0 models\n",
        "\tlevel0 = list()\n",
        "\tlevel0.append(('lr', LogisticRegression(solver='lbfgs', max_iter=500)))\n",
        "\tlevel0.append(('nb', GaussianNB())) # RandomForestClassifier(n_estimators=130, criterion='entropy')))\n",
        "\tlevel0.append(('svm', SVC(kernel='rbf')))\n",
        "\t# define meta learner model: level 1\n",
        "\tlevel1 = LogisticRegression(solver='lbfgs', max_iter=500)\n",
        "\t# define the stacking ensemble\n",
        "\tmodel = StackingClassifier(estimators=level0, final_estimator=level1, cv=5)\n",
        "\treturn model"
      ]
    },
    {
      "cell_type": "code",
      "execution_count": 87,
      "metadata": {
        "id": "CxwkcZkvEhzr"
      },
      "outputs": [],
      "source": [
        "def base_models():\n",
        "  NB = GaussianNB()\n",
        "  svm = SVC(kernel='rbf')\n",
        "  models = dict()\n",
        "  models['NB'] = GaussianNB()\n",
        "  models['lr'] = LogisticRegression(solver='lbfgs', max_iter=500)\n",
        "  models['svm_Linear'] = SVC(kernel='linear')\n",
        "  models['svm_Polly'] = SVC(kernel='poly')\n",
        "  models['svm_RBF'] = SVC(kernel='rbf')\n",
        "  models['svm_Sigmoid'] = SVC(kernel='sigmoid')\n",
        "  models['dt_ent'] = DecisionTreeClassifier(criterion='entropy')\n",
        "  models['dt_gini'] = DecisionTreeClassifier(criterion='gini')\n",
        "  models['rf'] = RandomForestClassifier(n_estimators=130, criterion='entropy')\n",
        "  models['bagging_NB'] = BaggingClassifier(base_estimator=NB, n_estimators=50, max_samples=0.8, max_features=0.8)\n",
        "  models['bagging_SVM'] = BaggingClassifier(base_estimator=svm, n_estimators=50, max_samples=0.8, max_features=0.8)\n",
        "  models['adaboost_nb'] = AdaBoostClassifier(base_estimator=NB, n_estimators=800)\n",
        "  models['stacking'] = get_stacking()\n",
        "  return models"
      ]
    },
    {
      "cell_type": "code",
      "execution_count": 88,
      "metadata": {
        "id": "xg1moJ0uEj_j"
      },
      "outputs": [],
      "source": [
        "from sklearn.pipeline import make_pipeline\n",
        "from sklearn.preprocessing import StandardScaler\n",
        "\n",
        "def evaluate_model_Multi(model, X, y, mc):\n",
        "  acc = [] ### Blank vector\n",
        "  f = []\n",
        "  prec = []\n",
        "  rec = []\n",
        "  single = timeit.default_timer()\n",
        "  for i in range(mc):\n",
        "    X_train,X_test,y_train,y_test=train_test_split(X,y,test_size=0.2, random_state=i)# split dataset\n",
        "    #dt = make_pipeline(StandardScaler(),model) #pipeline to reduce computation time\n",
        "    dt = model.fit(X_train,y_train) # fit the model\n",
        "    YPred = dt.predict(X_test) # predict\n",
        "    a = accuracy_score(y_test,YPred) # compute accuracy\n",
        "    acc.append(a) # append accuracy\n",
        "    f1 = f1_score(y_test, YPred, average='weighted')\n",
        "    precision = precision_score(y_test, YPred, average='weighted')\n",
        "    recall = recall_score(y_test, YPred, average='weighted')\n",
        "    f.append(f1)\n",
        "    prec.append(precision)\n",
        "    rec.append(recall)\n",
        "    timed = timeit.default_timer() - single\n",
        "    return np.mean(acc), dt, np.mean(recall), np.mean(prec),np.mean(f), np.mean(timed)"
      ]
    },
    {
      "cell_type": "markdown",
      "source": [
        "Function to save Models"
      ],
      "metadata": {
        "id": "53yVETgUFTAS"
      }
    },
    {
      "cell_type": "code",
      "source": [
        "import os\n",
        "\n",
        "def dump_model(x,mod,name):\n",
        "  dire = 'Models/'+x\n",
        "  if not os.path.exists(dire):\n",
        "    os.makedirs(dire)\n",
        "  filename = dire+'/'+name+'.pkl'\n",
        "  pickle.dump(mod,open(filename,'wb'))"
      ],
      "metadata": {
        "id": "L4co0eaPN65I"
      },
      "execution_count": 117,
      "outputs": []
    },
    {
      "cell_type": "markdown",
      "source": [
        "Model Evaluation with PCA dimensionality reduction techniques"
      ],
      "metadata": {
        "id": "RzFXK-F1FINJ"
      }
    },
    {
      "cell_type": "code",
      "execution_count": 194,
      "metadata": {
        "colab": {
          "base_uri": "https://localhost:8080/"
        },
        "id": "uWRvHsJ5FSGD",
        "outputId": "131341ca-a201-4888-c056-6204c94a9a33"
      },
      "outputs": [
        {
          "output_type": "stream",
          "name": "stdout",
          "text": [
            "NB -- accuracy: 0.5838150289017341 -- Deviation 0.0 -- Precision  0.5838150289017341 -- Recall 0.590612806207444 -- Fscore: 0.5617212588310854\n",
            "lr -- accuracy: 0.6184971098265896 -- Deviation 0.0 -- Precision  0.6184971098265896 -- Recall 0.6182185346089684 -- Fscore: 0.6153432913247796\n",
            "svm_Linear -- accuracy: 0.5973025048169557 -- Deviation 0.0 -- Precision  0.5973025048169557 -- Recall 0.5995074461734248 -- Fscore: 0.5867515193005413\n",
            "svm_Polly -- accuracy: 0.5491329479768786 -- Deviation 0.0 -- Precision  0.5491329479768786 -- Recall 0.5682009920727326 -- Fscore: 0.47595054739072784\n",
            "svm_RBF -- accuracy: 0.6358381502890174 -- Deviation 0.0 -- Precision  0.6358381502890174 -- Recall 0.6352950455779783 -- Fscore: 0.6351666887775895\n",
            "svm_Sigmoid -- accuracy: 0.5260115606936416 -- Deviation 0.0 -- Precision  0.5260115606936416 -- Recall 0.5281370092614479 -- Fscore: 0.5261277032765599\n",
            "dt_ent -- accuracy: 0.5375722543352601 -- Deviation 0.0 -- Precision  0.5375722543352601 -- Recall 0.5382948835515989 -- Fscore: 0.5378059842417923\n",
            "dt_gini -- accuracy: 0.6011560693641619 -- Deviation 0.0 -- Precision  0.6011560693641619 -- Recall 0.6023723971700851 -- Fscore: 0.6013871827529121\n",
            "rf -- accuracy: 0.5973025048169557 -- Deviation 0.0 -- Precision  0.5973025048169557 -- Recall 0.5997902120148331 -- Fscore: 0.5973712763164096\n",
            "bagging_NB -- accuracy: 0.5915221579961464 -- Deviation 0.0 -- Precision  0.5915221579961464 -- Recall 0.5978800401889168 -- Fscore: 0.5728943368092873\n",
            "bagging_SVM -- accuracy: 0.6319845857418112 -- Deviation 0.0 -- Precision  0.6319845857418112 -- Recall 0.6314223258853622 -- Fscore: 0.631306018817564\n",
            "adaboost_nb -- accuracy: 0.5144508670520231 -- Deviation 0.0 -- Precision  0.5144508670520231 -- Recall 0.5155633305922324 -- Fscore: 0.5147322486114301\n",
            "stacking -- accuracy: 0.630057803468208 -- Deviation 0.0 -- Precision  0.630057803468208 -- Recall 0.6294688218824268 -- Fscore: 0.6293036650299376\n",
            "Total time for single run to check models:  15.159867853999458\n"
          ]
        }
      ],
      "source": [
        "from numpy import mean, std\n",
        "import warnings\n",
        "warnings.filterwarnings(\"ignore\")\n",
        "# get the models to evaluate\n",
        "models = base_models()\n",
        "# evaluate the models and store results\n",
        "Single_results, Single_names = list(), list()\n",
        "Single_run = 50\n",
        "start_single = timeit.default_timer()\n",
        "for name, model in models.items():\n",
        "\tscores, mod, prec, recall,fscore, timed = evaluate_model_Multi(model,X_PCA,y,Single_run) #,X_over,y_over)#, X, y)\n",
        "\tSingle_results.append(scores)\n",
        "\tSingle_names.append(name)\n",
        "\t#filename = 'Models/'+name+'.pkl'\n",
        "\t#pickle.dump(mod, open(filename, 'wb'))\n",
        "\tdump_model('X_PCA',mod,name)\n",
        "\tprint(name,'-- accuracy:', mean(scores), '-- Deviation',std(scores),'-- Precision ', mean(prec),'-- Recall', mean(recall),'-- Fscore:', mean(fscore))\n",
        "print('Total time for single run to check models: ', timeit.default_timer() - start_single) "
      ]
    },
    {
      "cell_type": "code",
      "execution_count": 119,
      "metadata": {
        "colab": {
          "base_uri": "https://localhost:8080/",
          "height": 405
        },
        "id": "XiNrtsKS6rlV",
        "outputId": "82ba2ac5-05c5-49c4-e29a-1500f8f3d85a"
      },
      "outputs": [
        {
          "output_type": "display_data",
          "data": {
            "image/png": "[encoded data removed]",
            "text/plain": [
              "<Figure size 1152x432 with 1 Axes>"
            ]
          },
          "metadata": {
            "needs_background": "light"
          }
        }
      ],
      "source": [
        "plt.figure(figsize=(16, 6))\n",
        "plt.plot(Single_names, Single_results)\n",
        "plt.ylabel('Accuracy'); plt.xlabel('Models'); plt.title('Accuracy for different Models');\n",
        "plt.show()"
      ]
    },
    {
      "cell_type": "markdown",
      "source": [
        "Model Evaluation with SVD dimensionality reduction techniques"
      ],
      "metadata": {
        "id": "9Qy8HaMYEqCq"
      }
    },
    {
      "cell_type": "code",
      "execution_count": 120,
      "metadata": {
        "colab": {
          "base_uri": "https://localhost:8080/"
        },
        "outputId": "d9543052-79be-4d97-882a-a2c3c5a7f3e1",
        "id": "1vkwrEnZLsWs"
      },
      "outputs": [
        {
          "output_type": "stream",
          "name": "stdout",
          "text": [
            "NB -- accuracy: 0.6069364161849711 -- Deviation 0.0 -- Precision  0.6069364161849711 -- Recall 0.6089459252540841 -- Fscore: 0.5983727297811674\n",
            "lr -- accuracy: 0.6339113680154143 -- Deviation 0.0 -- Precision  0.6339113680154143 -- Recall 0.6335590923887702 -- Fscore: 0.6318732083697725\n",
            "svm_Linear -- accuracy: 0.6165703275529865 -- Deviation 0.0 -- Precision  0.6165703275529865 -- Recall 0.6198833699933501 -- Fscore: 0.6075113483352746\n",
            "svm_Polly -- accuracy: 0.5934489402697495 -- Deviation 0.0 -- Precision  0.5934489402697495 -- Recall 0.6169591529866839 -- Fscore: 0.5563351464188333\n",
            "svm_RBF -- accuracy: 0.653179190751445 -- Deviation 0.0 -- Precision  0.653179190751445 -- Recall 0.652957174686997 -- Fscore: 0.6530293649884745\n",
            "svm_Sigmoid -- accuracy: 0.48940269749518306 -- Deviation 0.0 -- Precision  0.48940269749518306 -- Recall 0.4894975056873448 -- Fscore: 0.48944828908422294\n",
            "dt_ent -- accuracy: 0.5992292870905588 -- Deviation 0.0 -- Precision  0.5992292870905588 -- Recall 0.6007970871154678 -- Fscore: 0.5994436029798151\n",
            "dt_gini -- accuracy: 0.5895953757225434 -- Deviation 0.0 -- Precision  0.5895953757225434 -- Recall 0.5903889199487901 -- Fscore: 0.5898149861567454\n",
            "rf -- accuracy: 0.626204238921002 -- Deviation 0.0 -- Precision  0.626204238921002 -- Recall 0.6283433899203205 -- Fscore: 0.6263430231017573\n",
            "bagging_NB -- accuracy: 0.5973025048169557 -- Deviation 0.0 -- Precision  0.5973025048169557 -- Recall 0.6029607007085362 -- Fscore: 0.5813651936156328\n",
            "bagging_SVM -- accuracy: 0.6416184971098265 -- Deviation 0.0 -- Precision  0.6416184971098265 -- Recall 0.6419185650633596 -- Fscore: 0.6417304413543705\n",
            "adaboost_nb -- accuracy: 0.47784200385356457 -- Deviation 0.0 -- Precision  0.47784200385356457 -- Recall 0.4961896853354786 -- Fscore: 0.35838550184785883\n",
            "stacking -- accuracy: 0.6435452793834296 -- Deviation 0.0 -- Precision  0.6435452793834296 -- Recall 0.6431845256593531 -- Fscore: 0.6432477212478833\n",
            "Total time for single run to check models:  10.093436007000491\n"
          ]
        }
      ],
      "source": [
        "from numpy import mean, std\n",
        "import warnings\n",
        "import os\n",
        "warnings.filterwarnings(\"ignore\")\n",
        "\n",
        "# get the models to evaluate\n",
        "models = base_models()\n",
        "# evaluate the models and store results\n",
        "Single_results, Single_names = list(), list()\n",
        "Single_run = 20\n",
        "start_single = timeit.default_timer()\n",
        "for name, model in models.items():\n",
        "\tscores, mod, prec, recall,fscore, timed = evaluate_model_Multi(model,X_SVD,y,Single_run) #,X_over,y_over)#, X, y)\n",
        "\tSingle_results.append(scores)\n",
        "\tSingle_names.append(name)\n",
        "\tdump_model('X_SVD',mod,name)\n",
        "\tprint(name,'-- accuracy:', mean(scores), '-- Deviation',std(scores),'-- Precision ', mean(prec),'-- Recall', mean(recall),'-- Fscore:', mean(fscore))\n",
        "print('Total time for single run to check models: ', timeit.default_timer() - start_single) "
      ]
    },
    {
      "cell_type": "code",
      "source": [
        "plt.figure(figsize=(16, 6))\n",
        "plt.plot(Single_names, Single_results)\n",
        "plt.ylabel('Accuracy'); plt.xlabel('Models'); plt.title('Accuracy for different Models');\n",
        "plt.show()"
      ],
      "metadata": {
        "colab": {
          "base_uri": "https://localhost:8080/",
          "height": 405
        },
        "id": "21rc3-71LvT7",
        "outputId": "6d9c8f1b-933a-48fa-e76a-258db12390d0"
      },
      "execution_count": 109,
      "outputs": [
        {
          "output_type": "display_data",
          "data": {
            "image/png": "[encoded data removed]",
            "text/plain": [
              "<Figure size 1152x432 with 1 Axes>"
            ]
          },
          "metadata": {
            "needs_background": "light"
          }
        }
      ]
    },
    {
      "cell_type": "markdown",
      "source": [
        "Cross Validation Machine Learning Model"
      ],
      "metadata": {
        "id": "43_wgdwDE9XD"
      }
    },
    {
      "cell_type": "code",
      "execution_count": 121,
      "metadata": {
        "id": "6rxijyIpC2nA"
      },
      "outputs": [],
      "source": [
        "def evaluate_model_cross(model, X, y):\n",
        "\tcv = 4\n",
        "\tscores = cross_val_score(model, X, y, scoring='accuracy', cv=cv)\n",
        "\treturn scores"
      ]
    },
    {
      "cell_type": "code",
      "execution_count": 122,
      "metadata": {
        "colab": {
          "base_uri": "https://localhost:8080/"
        },
        "id": "r4SsfsR8C5kh",
        "outputId": "e004d59d-8ce5-477e-c3b6-b19b34bd9911"
      },
      "outputs": [
        {
          "output_type": "stream",
          "name": "stdout",
          "text": [
            ">NB 0.573 (0.023)\n",
            ">lr 0.586 (0.030)\n",
            ">svm_Linear 0.578 (0.027)\n",
            ">svm_Polly 0.517 (0.011)\n",
            ">svm_RBF 0.590 (0.041)\n",
            ">svm_Sigmoid 0.520 (0.015)\n",
            ">dt_ent 0.518 (0.004)\n",
            ">dt_gini 0.529 (0.006)\n",
            ">rf 0.572 (0.017)\n",
            ">bagging_NB 0.573 (0.023)\n",
            ">bagging_SVM 0.596 (0.037)\n",
            ">adaboost_nb 0.517 (0.019)\n",
            ">stacking 0.588 (0.036)\n"
          ]
        }
      ],
      "source": [
        "from numpy import mean, std\n",
        "# get the models to evaluate\n",
        "models = base_models()\n",
        "# evaluate the models and store results\n",
        "cross_results, cross_names = list(), list()\n",
        "for name, model in models.items():\n",
        "\tscores = evaluate_model_cross(model, X_PCA, y)\n",
        "\tcross_results.append(scores)\n",
        "\tcross_names.append(name)\n",
        "\t#filename = 'Models/'+name+'.pkl'\n",
        "\t#pickle.dump(mod, open(filename, 'wb'))\n",
        "\tdump_model('X_PCA_cross',mod,name)\n",
        "\tprint('>%s %.3f (%.3f)' % (name, mean(scores), std(scores)))"
      ]
    },
    {
      "cell_type": "code",
      "execution_count": 193,
      "metadata": {
        "colab": {
          "base_uri": "https://localhost:8080/",
          "height": 405
        },
        "id": "a3Ti0EQBDglU",
        "outputId": "b992516e-7bc5-4712-8155-5e4f9798e5c2"
      },
      "outputs": [
        {
          "output_type": "display_data",
          "data": {
            "image/png": "[encoded data removed]",
            "text/plain": [
              "<Figure size 1152x432 with 1 Axes>"
            ]
          },
          "metadata": {
            "needs_background": "light"
          }
        }
      ],
      "source": [
        "plt.figure(figsize=(16, 6))\n",
        "plt.boxplot(cross_results, labels=cross_names, showmeans=True)\n",
        "plt.ylabel('Accuracy'); plt.xlabel('Models'); plt.title('Accuracy for different Models');\n",
        "plt.show()"
      ]
    },
    {
      "cell_type": "markdown",
      "source": [
        "## Deployment\n",
        "\n",
        "In Deployment phase we can select the best suitable model from the results obtained and use it for further analysis"
      ],
      "metadata": {
        "id": "_72x28ZzP1fa"
      }
    },
    {
      "cell_type": "code",
      "source": [
        "Doc1= \"A fascinating site run by a writing team to help romance writers “establish and advance their careers, introducing readers to a variety of authors, and delving into the ever-inscrutable male mind.” Worth a look for any writer, not just those in genre fiction.\"\n",
        "Doc2= \"Nowadays, future literary historians, biographers and researchers will no longer have at their disposal such a fertile domain or archives when it comes to studying the authors of today. Emails leave no trace beyond their ephemeral electronic incarnation and modern writers are more likely to be laying down their thoughts, fantasies and obsessions in blogs rather than personal journals. Is a literary tradition being lost altogether, or is it just evolving?\"\n",
        "Doc3= \"I only read women. I know that men write books. But their lives are so limited. It’s such a small and narrow experience….Their literature just really can’t match anything written by a woman. I just think ‘**** off’.\"\n",
        "Doc = [Doc1, Doc2, Doc3]"
      ],
      "metadata": {
        "id": "5KO5PIORP3vg"
      },
      "execution_count": 189,
      "outputs": []
    },
    {
      "cell_type": "code",
      "source": [
        "Doc_cleaned = []\n",
        "for i in Doc:\n",
        "  Doc_cleaned.append(clean_text(i))"
      ],
      "metadata": {
        "id": "0mvUkGsMTJV7"
      },
      "execution_count": 190,
      "outputs": []
    },
    {
      "cell_type": "code",
      "source": [
        "TF_IDF_Vect = TfidfVectorizer(stop_words='english',use_idf=True)\n",
        "TEST_X_TF =  TF_IDF_Vect.fit_transform(Doc_cleaned)\n",
        "\n",
        "# initialize PCA with 2 components\n",
        "pca = PCA(n_components=3)#, random_state=42)\n",
        "# pass our X to the pca and store the reduced vectors into pca_vecs\n",
        "pca_vecs = pca.fit_transform(TEST_X_TF.toarray())\n",
        "# save our two dimensions into x0 and x1\n",
        "x0 = pca_vecs[:, 0]\n",
        "x1 = pca_vecs[:, 1]\n",
        "x2 = pca_vecs[:, 2]\n",
        "TEST_X_PCA = pd.DataFrame(pca_vecs)\n",
        "\n",
        "\n",
        "model_name = '/content/Models/X_PCA/svm_RBF.pkl'\n",
        "\n",
        "\n",
        "loaded_model = pickle.load(open(model_name, 'rb'))\n",
        "y_pred = loaded_model.predict(TEST_X_PCA)"
      ],
      "metadata": {
        "id": "kLbCMxniQjhm"
      },
      "execution_count": 191,
      "outputs": []
    },
    {
      "cell_type": "code",
      "source": [
        "for i in y_pred:\n",
        "  if i != 1:\n",
        "    print('Female')\n",
        "  else:\n",
        "    print('Male')"
      ],
      "metadata": {
        "colab": {
          "base_uri": "https://localhost:8080/"
        },
        "id": "NPNYXOzWXqFf",
        "outputId": "cc770c40-4566-4e4c-a517-4442d61db275"
      },
      "execution_count": 192,
      "outputs": [
        {
          "output_type": "stream",
          "name": "stdout",
          "text": [
            "Female\n",
            "Female\n",
            "Female\n"
          ]
        }
      ]
    },
    {
      "cell_type": "markdown",
      "metadata": {
        "id": "uQXwdyQ2QO_p"
      },
      "source": [
        "References\n",
        "\n",
        "* https://medium.com/analytics-vidhya/building-a-text-classification-model-using-bilstm-c0548ace26f2\n",
        "\n",
        "* https://towardsdatascience.com/how-to-clean-text-data-639375414a2f\n",
        "\n",
        "* https://towardsdatascience.com/cleaning-text-data-with-python-b69b47b97b76\n",
        "\n",
        "* https://towardsdatascience.com/deep-learning-techniques-for-text-classification-78d9dc40bf7c"
      ]
    }
  ],
  "metadata": {
    "colab": {
      "name": "NLP_CA01.ipynb",
      "provenance": [],
      "mount_file_id": "1vu8gLbwxJqSMsSdLL9dj3EVCmLK6Q9pS",
      "authorship_tag": "ABX9TyPmBm4W46ZEuNoXfsiTHUdT",
      "include_colab_link": true
    },
    "kernelspec": {
      "display_name": "Python 3",
      "name": "python3"
    },
    "language_info": {
      "name": "python"
    }
  },
  "nbformat": 4,
  "nbformat_minor": 0
}